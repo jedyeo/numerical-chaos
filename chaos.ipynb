{
 "cells": [
  {
   "cell_type": "markdown",
   "id": "4364dbb0-1451-4fcf-96b6-444a8e43fd64",
   "metadata": {
    "slideshow": {
     "slide_type": "slide"
    }
   },
   "source": [
    "# MATH 405/607 \n",
    "\n",
    "# Chaos In The Context Of Dynamical Systems\n",
    "\n",
    "Callum Hepworth, Sandy Luo, Jed Yeo\n"
   ]
  },
  {
   "cell_type": "markdown",
   "id": "14540792",
   "metadata": {
    "slideshow": {
     "slide_type": "slide"
    }
   },
   "source": [
    "## Content\n",
    "\n",
    "1) Introduction to Chaos Theory\n",
    "2) Strange Attractor & Lorenz Problem\n",
    "3) Popular Examples of Chaos\n",
    "4) Studying Chaos Numerically (ODEs)"
   ]
  },
  {
   "cell_type": "markdown",
   "id": "fce0459b-68fe-4709-b389-b310b48deef2",
   "metadata": {
    "slideshow": {
     "slide_type": "slide"
    }
   },
   "source": [
    "## Introduction"
   ]
  },
  {
   "cell_type": "markdown",
   "id": "eddeb5ae",
   "metadata": {
    "slideshow": {
     "slide_type": "fragment"
    }
   },
   "source": [
    "- Chaos theory \n",
    "    - \"Study of random or unpredictable behaviour in systems governed by deterministic laws\" [1]\n",
    "    - Example: Pinball machine\n",
    "- Applications\n",
    "    - Turbulent flow\n",
    "    - Chemical reactions\n",
    "    - Planetary motion"
   ]
  },
  {
   "cell_type": "markdown",
   "id": "1867d8c6",
   "metadata": {
    "slideshow": {
     "slide_type": "subslide"
    }
   },
   "source": [
    "- Dynamical systems\n",
    "    - Highly sensitive to initial conditions\n",
    "    - i.e, adjusting initial conditions by some amount leads to interesting changes in the solution\n",
    "    - Behavior of dynamical chaotic systems appears random\n",
    "    - This is not the case - these systems are deterministic (future dynamics are fully defined by initial conditions)"
   ]
  },
  {
   "cell_type": "markdown",
   "id": "d9a06653",
   "metadata": {
    "slideshow": {
     "slide_type": "subslide"
    }
   },
   "source": [
    "## Lorenz Heat Problem\n",
    "\n",
    "- Chaos first observed by Edward Lorenz in 1963 \n",
    "- The problem: atmospheric convection (three ODEs):\n",
    "\n",
    "$$\\frac{dx}{dt} = \\sigma(y-x), \\frac{dy}{dt}=x(\\rho-z)-y, \\frac{dz}{dt}=xy-\\beta z $$\n",
    "\n",
    "\n",
    "- These three equations relate the properties of a 2D fluid layer uniformly warmed from below and cooled from above\n",
    "- $x$ is proportional to rate of convection, $y$ to horizontal temperature gradient, $z$ to the vertical gradient\n",
    "- Constants depend on physical properties of the system\n",
    "\n"
   ]
  },
  {
   "cell_type": "code",
   "execution_count": null,
   "id": "00abfe61-0d7c-4f04-8ebc-033adfd86bdf",
   "metadata": {
    "slideshow": {
     "slide_type": "slide"
    }
   },
   "outputs": [],
   "source": [
    "# We take σ = 10, ρ = 28, β = 8/3\n",
    "include(\"math405.jl\")\n",
    "using OrdinaryDiffEq, Plots\n",
    "function lorenz(du, u, p, t)\n",
    "    du[1] = 10.0*(u[2]-u[1])\n",
    "    du[2] = u[1]*(28.0-u[3]) - u[2]\n",
    "    du[3] = u[1]*u[2] - (8/3)*u[3]\n",
    "end"
   ]
  },
  {
   "cell_type": "code",
   "execution_count": null,
   "id": "b162dc1f",
   "metadata": {
    "slideshow": {
     "slide_type": "slide"
    }
   },
   "outputs": [],
   "source": [
    "u0 = [-15.0;-15.0;20.0]\n",
    "tspan = (0.0,100.0)\n",
    "prob = ODEProblem(lorenz,u0,tspan)\n",
    "sol0 = solve(prob, Tsit5())\n",
    "plot(sol0, vars=(1,2,3))"
   ]
  },
  {
   "cell_type": "code",
   "execution_count": null,
   "id": "dc722df7",
   "metadata": {
    "slideshow": {
     "slide_type": "slide"
    }
   },
   "outputs": [],
   "source": [
    "u1 = [-15.0;-15.0;20.0001]\n",
    "prob = ODEProblem(lorenz,u1,tspan)\n",
    "sol1 = solve(prob, Tsit5())\n",
    "plot(sol1, vars=(1,2,3))"
   ]
  },
  {
   "cell_type": "markdown",
   "id": "41a4b5df-34b2-4ae9-bbe1-3c5590608bca",
   "metadata": {
    "slideshow": {
     "slide_type": "fragment"
    }
   },
   "source": [
    "- These butterfly-like shapes reveal the structure of the \"stranger attractor\" for the Lorenz problem\n",
    "- A mere adjustment of $1\\times10^{-4}$ in the third initial condition yields a vastly different solution space"
   ]
  },
  {
   "cell_type": "markdown",
   "id": "557ce6ba",
   "metadata": {
    "slideshow": {
     "slide_type": "slide"
    }
   },
   "source": [
    "- There isn't a universally accepted definition of chaos, but in general a chaotic problem must loosely follow these guidelines:\n",
    "   - 1) be sensitive to initial conditions\n",
    "   - 2) be topologically transitive\n",
    "   - 3) have dense periodic orbits\n",
    "- It can be shown that the last two imply the first; we will not discuss these conditons as we are mainly interested in pertubations of the initial condition(s)."
   ]
  },
  {
   "cell_type": "code",
   "execution_count": null,
   "id": "faf96f6f",
   "metadata": {
    "slideshow": {
     "slide_type": "slide"
    }
   },
   "outputs": [],
   "source": [
    "@gif for m = 1:50\n",
    "    u0 = [-15.0;-15.0;20]\n",
    "    tspan = (0.0,m*2.0)\n",
    "    prob = ODEProblem(lorenz,u0,tspan)\n",
    "    sol0 = solve(prob, Tsit5())\n",
    "    plot(sol0,vars=(1,3))\n",
    "end"
   ]
  },
  {
   "cell_type": "code",
   "execution_count": null,
   "id": "0755d925",
   "metadata": {
    "slideshow": {
     "slide_type": "slide"
    }
   },
   "outputs": [],
   "source": [
    "@gif for m = 1:50\n",
    "    u1 = [-15.0;-15.0;20.0001]\n",
    "    tspan = (0.0,m*2.0)\n",
    "    prob = ODEProblem(lorenz,u1,tspan)\n",
    "    sol1 = solve(prob, Tsit5())\n",
    "    plot(sol1,vars=(1,3),color=\"orange\")\n",
    "end"
   ]
  },
  {
   "cell_type": "code",
   "execution_count": null,
   "id": "d740a6bc",
   "metadata": {
    "slideshow": {
     "slide_type": "slide"
    }
   },
   "outputs": [],
   "source": [
    "plot(sol0, vars=(1,3), xlabel=L\"x\", ylabel=L\"z\", label=\"\\$ z(0)=20 \\$\", title=\"\\$ xz\\$ plane with differing ICs\")\n",
    "plot!(sol1, vars=(1,3), label=\"\\$ z(0)=20.0001 \\$\")"
   ]
  },
  {
   "cell_type": "markdown",
   "id": "b7e51da5-c30c-4f4f-ab3b-2a247cb8744b",
   "metadata": {
    "slideshow": {
     "slide_type": "slide"
    }
   },
   "source": [
    "## Strange Attractors"
   ]
  },
  {
   "cell_type": "markdown",
   "id": "0b24797c",
   "metadata": {
    "slideshow": {
     "slide_type": "fragment"
    }
   },
   "source": [
    "- Lorenz's choices for $\\beta = \\frac{8}{3}$, $\\sigma = 10$, and $\\rho = 28$ were intentional.\n",
    "\n",
    "- With these parameters almost all IC's tend toward an invariant set of states as the system evolves numerically.\n",
    "\n",
    "- For a general ODE this set of states is called an $\\textbf{attractor}$, and if these states form a fractal they are called a $\\textbf{strange attractor}$.\n",
    "\n",
    "    - Because it's a notable example, the strange attractor that emerges from the Lorenz system is dubbed the $\\textbf{Lorenz attractor}$."
   ]
  },
  {
   "cell_type": "markdown",
   "id": "c7786a63",
   "metadata": {
    "slideshow": {
     "slide_type": "subslide"
    }
   },
   "source": [
    "- While the Lorenz attractor is a notable example, these behaviours emerge from a variety of dynamical systems.\n",
    "\n",
    "- Most often, but not always, strange attractors emerge from chaotic systems.\n",
    "\n",
    "- As Jed mentioned in the introduction, a necessary condition of a chaotic system is that the behaviour of the system is heavily dependent on the choice of initial conditions."
   ]
  },
  {
   "cell_type": "markdown",
   "id": "8c959794",
   "metadata": {
    "slideshow": {
     "slide_type": "slide"
    }
   },
   "source": [
    "## Sensitivity to Initial Conditions\n",
    "\n",
    "- We can visualize this initial condition dependence by taking a dynamical system that is known to be chaotic, i.e. the Lorenz system with $\\beta = \\frac{8}{3}$, $\\sigma = 10$, and $\\rho = 28$, and perturb $z_0$."
   ]
  },
  {
   "cell_type": "code",
   "execution_count": null,
   "id": "2a8efb22",
   "metadata": {
    "slideshow": {
     "slide_type": "slide"
    }
   },
   "outputs": [],
   "source": [
    "u1 = [-15.0;-15.0;20.0]\n",
    "prob = ODEProblem(lorenz,u1,tspan)\n",
    "sol_unperturbed = solve(prob, Tsit5())\n",
    "\n",
    "u1 = [-15.0;-15.0;20.00001]\n",
    "prob = ODEProblem(lorenz,u1,tspan)\n",
    "sol_perturbed = solve(prob, Tsit5())\n",
    "\n",
    "plot(sol_unperturbed,vars=(1), color=1, xlims=(0, 20))\n",
    "plot!(sol_perturbed,vars=(1), color=2, xlims=(0, 20))"
   ]
  },
  {
   "cell_type": "code",
   "execution_count": null,
   "id": "66ff770c",
   "metadata": {
    "slideshow": {
     "slide_type": "slide"
    }
   },
   "outputs": [],
   "source": [
    "plot(sol_unperturbed,vars=(2), color=1, xlims=(0, 20))\n",
    "plot!(sol_perturbed,vars=(2), color=2, xlims=(0, 20))"
   ]
  },
  {
   "cell_type": "code",
   "execution_count": null,
   "id": "5348ab48",
   "metadata": {
    "slideshow": {
     "slide_type": "slide"
    }
   },
   "outputs": [],
   "source": [
    "plot(sol_unperturbed,vars=(3), color=1, xlims=(0, 20))\n",
    "plot!(sol_perturbed,vars=(3), color=2, xlims=(0, 20))"
   ]
  },
  {
   "cell_type": "markdown",
   "id": "c48e4aee",
   "metadata": {
    "slideshow": {
     "slide_type": "fragment"
    }
   },
   "source": [
    "- Despite having $z_0$ differ by one part in $10^6$, the systems diverge wildly after the $\\approx 13^{th}$ timestep.\n",
    "- To briefly quantify this behaviour, we note that an initial state difference of $10^{-5}$ in $z_0$ has grown by six orders of magnitude over $15$ time steps."
   ]
  },
  {
   "cell_type": "markdown",
   "id": "5b8aee46",
   "metadata": {
    "slideshow": {
     "slide_type": "slide"
    }
   },
   "source": [
    "## Can we quantify this rate of divergence?\n",
    "\n",
    "- To quantify trends in the sensitivity of chaotic dynamical systems to initial conditions, it is useful to first visualize the rate of divergence over time.\n",
    "\n",
    "- We can do so by plotting the $l$-2 norm of the difference between the perturbed and unperturbed states as a function of time. \n",
    "    \n",
    "    - This has been done for the Lorenz system below.\n"
   ]
  },
  {
   "cell_type": "code",
   "execution_count": null,
   "id": "ae5d3805",
   "metadata": {
    "slideshow": {
     "slide_type": "slide"
    }
   },
   "outputs": [],
   "source": [
    "TT = 1:1:500\n",
    "err = @. sqrt((sol_perturbed[1, TT]-sol_unperturbed[1, TT])^2+(sol_perturbed[2, TT]-sol_unperturbed[2, TT])^2+(sol_perturbed[3, TT]-sol_unperturbed[3, TT])^2)\n",
    "\n",
    "TT = (1:1:500) * (40 / 700)\n",
    "plot(TT,err, yaxis=:log, xlabel=\"t\", ylabel=L\"|| \\hat{y}(t) - y(t) ||_{2}\", title=L\"l\" * \"-2 Norm of Perturbed and Unperturbed State Difference vs. Time\", label=\"\", size=(800,400))"
   ]
  },
  {
   "cell_type": "markdown",
   "id": "971f0f36",
   "metadata": {
    "slideshow": {
     "slide_type": "slide"
    }
   },
   "source": [
    "- Applying this visualization reveals two distinct regions in the growth of the perturbations in our initially perturbed and unperturbed systems.\n",
    "\n",
    "- When T > 15, the $l$-2 error appears to reach an equilibrium and stops growing.\n",
    "\n",
    "- When T < 15, the $l$-2 error appears to grow exponentially. "
   ]
  },
  {
   "cell_type": "markdown",
   "id": "e4b58dd2",
   "metadata": {
    "slideshow": {
     "slide_type": "fragment"
    }
   },
   "source": [
    "- In general, the rate of growth in this initial exponential regime for a particular ODE is called it's $\\textbf{Lyapunov exponent}$. \n",
    "\n",
    "- This exponent is defined as $\\approx 0.9052$ for the Lorenz system. \n",
    "\n",
    "- Plotting an exponential function with this Lyapunov exponent looks as follows."
   ]
  },
  {
   "cell_type": "code",
   "execution_count": null,
   "id": "7137a625",
   "metadata": {
    "slideshow": {
     "slide_type": "slide"
    }
   },
   "outputs": [],
   "source": [
    "TT = 1:1:500\n",
    "err = @. sqrt((sol_perturbed[1, TT]-sol_unperturbed[1, TT])^2+(sol_perturbed[2, TT]-sol_unperturbed[2, TT])^2+(sol_perturbed[3, TT]-sol_unperturbed[3, TT])^2)\n",
    "\n",
    "TT = (1:1:500) * (40 / 700)\n",
    "plot(TT,err, yaxis=:log, xlabel=\"t\", ylabel=L\"|| \\hat{y}(t) - y(t) ||_{2}\", title=L\"l\" * \"-2 Norm of Perturbed and Unperturbed State Difference vs. Time\",legend=:bottomright, label=\"perturbation norm\", size=(800,400))\n",
    "\n",
    "TT = (1:1:300) * (40 / 700)\n",
    "plot!(TT, 0.0001 *exp.(TT * 0.9052), label=L\"\\lambda = 0.9052\")"
   ]
  },
  {
   "cell_type": "markdown",
   "id": "9fb41def",
   "metadata": {
    "slideshow": {
     "slide_type": "slide"
    }
   },
   "source": [
    "- We can say that perturbations in Lorenz systems typically grow at a rate of:\n",
    "\n",
    "\\begin{align*}\n",
    "    \\| \\hat{y}(t) - y(t) \\|_2 &\\approx Ce^{0.9052t}\n",
    "\\end{align*}\n",
    "\n",
    "In general, the formal definition of a Lyapunov exponent is given by:\n",
    "\n",
    "\\begin{align*}\n",
    "    \\lambda &= \\underset{t \\rightarrow \\infty}{lim} \\underset{\\| \\delta y(0) \\| \\rightarrow 0}{limsup} t^{-1} log \\frac{\\| \\delta y(t) \\|}{\\| \\delta y(0) \\|},\n",
    "\\end{align*}\n",
    "\n",
    "where:\n",
    "\n",
    "\\begin{align*}\n",
    "    \\delta y(t) &= \\hat{y}(t) - y(t)\n",
    "\\end{align*}"
   ]
  },
  {
   "cell_type": "markdown",
   "id": "d801698a",
   "metadata": {
    "slideshow": {
     "slide_type": "slide"
    }
   },
   "source": [
    "## Popular Examples of Chaos"
   ]
  },
  {
   "cell_type": "markdown",
   "id": "5b2e9894",
   "metadata": {
    "slideshow": {
     "slide_type": "fragment"
    }
   },
   "source": [
    "### Rossler Equations\n",
    "\n",
    "The Rossler Equations:\n",
    "\n",
    " $$u'=-v-w$$, $$v'=u+av$$, $$w'=b+w(u-c)$$"
   ]
  },
  {
   "cell_type": "code",
   "execution_count": null,
   "id": "49a98903",
   "metadata": {
    "slideshow": {
     "slide_type": "slide"
    }
   },
   "outputs": [],
   "source": [
    "@gif for m = 2:0.1:10\n",
    "    function Rossler(du,u,p,t)\n",
    "        du[1] = -u[2]-u[3]\n",
    "        du[2] = u[1]+0.2*u[2]\n",
    "        du[3] = 0.2+u[3].*(u[1]-m)\n",
    "    end\n",
    "\n",
    "    u0 = [2;0;0]\n",
    "    tspan = (0,300.0)\n",
    "    prob = ODEProblem(Rossler,u0,tspan)\n",
    "    sol = solve(prob, Tsit5())\n",
    "    \n",
    "    p1=scatter(sol[1,200:400],sol[2,200:400],sol[3,200:400])\n",
    "    p2=scatter(sol[1,200:400],sol[2,200:400])\n",
    "    \n",
    "    plot(p1, p2, legend=false,title=m)\n",
    "end"
   ]
  },
  {
   "cell_type": "markdown",
   "id": "220c5418",
   "metadata": {
    "slideshow": {
     "slide_type": "slide"
    }
   },
   "source": [
    "### Nonlinear Forced Oscillator\n",
    "This is a nonautonomous equation, or a chaotic nonlinear forced oscillator. \n",
    "\n",
    "The equation is\n",
    "\n",
    "$$y''+\\frac{1}{4}y'-y+y^3=0.4cos(t)$$\n",
    "\n",
    "The forcing function makes this system equivalent to a first-order autonomous system. Thus the dimension is great enough for chaos to be a possibility, and a computation confirms its appearance."
   ]
  },
  {
   "cell_type": "code",
   "execution_count": null,
   "id": "c782a956",
   "metadata": {
    "slideshow": {
     "slide_type": "slide"
    }
   },
   "outputs": [],
   "source": [
    "function nonlinear(du,u,p,t)\n",
    "    du[1] = u[2]\n",
    "    du[2] = -0.25*u[2]+u[1]-u[1].^3+0.4*cos(t)\n",
    "end\n",
    "\n",
    "u0 = [0;0]\n",
    "tspan = (0.0,300.0)\n",
    "prob = ODEProblem(nonlinear,u0,tspan)\n",
    "sol = solve(prob, Tsit5())\n",
    "plot(sol)"
   ]
  },
  {
   "cell_type": "code",
   "execution_count": null,
   "id": "ebc1ce64",
   "metadata": {
    "slideshow": {
     "slide_type": "slide"
    }
   },
   "outputs": [],
   "source": [
    "plot(sol[1,:],sol[2,:])"
   ]
  },
  {
   "cell_type": "markdown",
   "id": "0fc42997",
   "metadata": {
    "slideshow": {
     "slide_type": "slide"
    }
   },
   "source": [
    "### Chaos in a Food Web\n",
    "\n",
    "This is a simple of the interactions between rabbits and foxes in their population. \n",
    "\n",
    "We consider the population of rabbit as $u(t)$, the popluation of foxes $v(t)$ and population of carrots $c(t)$.\n",
    "\n",
    "We can then produce a reasonable model for rabbits consuming carrots, foxes consuming rabbits, and neither animal species can be sustained without food.\n",
    "\n",
    "$$\n",
    "c'=c(1-c)-f_1(c)u, u'=f_1(c)u-f_2(u)v-d_1u, v'f_2(u)v-d_2v\n",
    "$$"
   ]
  },
  {
   "cell_type": "markdown",
   "id": "3434e5eb",
   "metadata": {
    "slideshow": {
     "slide_type": "slide"
    }
   },
   "source": [
    "## Studying Chaos Numerically"
   ]
  },
  {
   "cell_type": "markdown",
   "id": "c9f359ec",
   "metadata": {
    "slideshow": {
     "slide_type": "slide"
    }
   },
   "source": [
    "### Analyzing Rossler Numerically\n",
    "\n",
    "### Rossler Equations\n",
    "\n",
    "The Rossler Equations:\n",
    "\n",
    " $$u'=-v-w,$$ $$v'=u+av,$$ $$w'=b+w(u-c)$$\n",
    " \n",
    "We set the initial condition as $u(0)=2$, $v(0)=w(0)=0$\n",
    " \n",
    "Also, we set $a=b=\\frac{1}{5}$ arbitrarily and $c$ is a parameter.\n",
    "\n",
    "We want to study how the values of $c$ would change the behaviour of the solutions."
   ]
  },
  {
   "cell_type": "code",
   "execution_count": null,
   "id": "c6f3b7d2",
   "metadata": {
    "slideshow": {
     "slide_type": "slide"
    }
   },
   "outputs": [],
   "source": [
    "function Rossler(du,u,p,t)\n",
    "    du[1] = -u[2]-u[3]\n",
    "    du[2] = u[1]+0.2*u[2]\n",
    "    du[3] = 0.2+u[3].*(u[1]-2)\n",
    "end\n",
    "\n",
    "u0 = [2;0;0]\n",
    "tspan = (0,300.0)\n",
    "prob = ODEProblem(Rossler,u0,tspan)\n",
    "sol = solve(prob, Tsit5())\n",
    "p1=plot(sol,vars=(1,2,3))\n",
    "p2=plot(sol,vars=(1,2))\n",
    "plot(p1, p2, legend=false,title=\"c=2,after t>200\")"
   ]
  },
  {
   "cell_type": "code",
   "execution_count": null,
   "id": "e06244fd",
   "metadata": {
    "slideshow": {
     "slide_type": "slide"
    }
   },
   "outputs": [],
   "source": [
    "@gif for m = 1:60\n",
    "    u0 = [2;0;0]\n",
    "    tspan = (0.0,m*0.6)\n",
    "    prob = ODEProblem(Rossler,u0,tspan)\n",
    "    sol = solve(prob, Tsit5())\n",
    "    p1=plot(sol,vars=(1,2,3))\n",
    "    p2=plot(sol,vars=(1,2))\n",
    "    plot(p1, p2, legend=false,title=\"c=2\")\n",
    "end\n"
   ]
  },
  {
   "cell_type": "code",
   "execution_count": null,
   "id": "80d90b7a",
   "metadata": {
    "slideshow": {
     "slide_type": "slide"
    }
   },
   "outputs": [],
   "source": [
    "u0 = [2;0;0]\n",
    "tspan = (0,300.0)\n",
    "prob = ODEProblem(Rossler,u0,tspan)\n",
    "sol = solve(prob, Tsit5())\n",
    "p1=plot(sol,vars=(1,2,3))\n",
    "p2=plot(sol,vars=(1,2))\n",
    "plot(p1, p2, legend=false,title=\"c=2,after t>200\")\n",
    "plot(sol)"
   ]
  },
  {
   "cell_type": "code",
   "execution_count": null,
   "id": "03c5d2ba",
   "metadata": {
    "slideshow": {
     "slide_type": "slide"
    }
   },
   "outputs": [],
   "source": [
    "p1=scatter(sol[1,526:791],sol[2,526:791],sol[3,526:791])\n",
    "p2=scatter(sol[1,526:791],sol[2,526:791])\n",
    "plot(p1, p2, legend=false,title=\"c=2,after t>200\")"
   ]
  },
  {
   "cell_type": "markdown",
   "id": "f8e48604",
   "metadata": {
    "slideshow": {
     "slide_type": "fragment"
    }
   },
   "source": [
    "As the parameter c increases, a bifurcation takes place. At around $c = 2.8$, the limit cycle undergoes period doubling, with the trajectory unfolding into a double loop."
   ]
  },
  {
   "cell_type": "code",
   "execution_count": null,
   "id": "9e386aae",
   "metadata": {
    "slideshow": {
     "slide_type": "slide"
    }
   },
   "outputs": [],
   "source": [
    "function Rossler1(du,u,p,t)\n",
    "    du[1] = -u[2]-u[3]\n",
    "    du[2] = u[1]+0.2*u[2]\n",
    "    du[3] = 0.2+u[3].*(u[1]-3.5)\n",
    "end\n",
    "u0 = [2;0;0]\n",
    "tspan = (0,300.0)\n",
    "prob = ODEProblem(Rossler1,u0,tspan)\n",
    "sol = solve(prob, Tsit5())\n",
    "p1=scatter(sol[1,526:791],sol[2,526:791],sol[3,526:791])\n",
    "p2=scatter(sol[1,526:791],sol[2,526:791])\n",
    "plot(p1, p2, legend=false,title=\"c=3.5,after t>200\")"
   ]
  },
  {
   "cell_type": "markdown",
   "id": "0f013ea1",
   "metadata": {
    "slideshow": {
     "slide_type": "fragment"
    }
   },
   "source": [
    "The following figure shows how the limit cycle undergoes period doubling."
   ]
  },
  {
   "cell_type": "code",
   "execution_count": null,
   "id": "94856cf5",
   "metadata": {
    "slideshow": {
     "slide_type": "slide"
    }
   },
   "outputs": [],
   "source": [
    "@gif for m = 1:0.1:4.0\n",
    "    function Rossler(du,u,p,t)\n",
    "        du[1] = -u[2]-u[3]\n",
    "        du[2] = u[1]+0.2*u[2]\n",
    "        du[3] = 0.2+u[3].*(u[1]-m)\n",
    "    end\n",
    "\n",
    "    u0 = [2;0;0]\n",
    "    tspan = (0.0,300.0)\n",
    "    prob = ODEProblem(Rossler,u0,tspan)\n",
    "    sol = solve(prob, Tsit5())\n",
    "    \n",
    "    p1=scatter(sol[1,200:400],sol[2,200:400],sol[3,200:400])\n",
    "    p2=scatter(sol[1,200:400],sol[2,200:400])\n",
    "    plot(p1, p2, legend=false,title=m)\n",
    "end"
   ]
  },
  {
   "cell_type": "markdown",
   "id": "0b0503e9",
   "metadata": {
    "slideshow": {
     "slide_type": "slide"
    }
   },
   "source": [
    "The phenomenon is called period doubling by Mitchell Feigenbaum.\n",
    "\n",
    "It illustrates a route to chaos.\n",
    "\n",
    "In this question, as the value of $c$ increases further, the period doubles again and again, infinitely often.\n",
    "\n",
    "Finally, for $c$ greater than about $4.2$, the system is chaotic. \n",
    "\n",
    "The following images show the chaotic regime, with the orbits settling down not to a limit cycle but to a strange attractor."
   ]
  },
  {
   "cell_type": "markdown",
   "id": "2f01acdd",
   "metadata": {},
   "source": [
    "### Chaos in a Food Web\n",
    "\n",
    "$$\n",
    "c'=c(1-c)-f_1(c)u, u'=f_1(c)u-f_2(u)v-d_1u, v'f_2(u)v-d_2v\n",
    "$$\n",
    "\n",
    "where $$f_1(z)=\\frac{a_1z}{(1+b_1z)}, f_2(z)=\\frac{a_2z}{(1+b_2z)}$$\n",
    "\n",
    "We fix the value of $a_1=5, a_2=0.1, b_2=2, d_1=0.4, d_2=0.01$ and vary the parameter $b_1$.\n",
    "\n",
    "$b_1$ describe the effect of competition between rabbits.\n",
    "\n",
    "As we fix $b_1=2.5$, this is a nonchaotic system."
   ]
  },
  {
   "cell_type": "code",
   "execution_count": null,
   "id": "4bc06fdd",
   "metadata": {
    "slideshow": {
     "slide_type": "slide"
    }
   },
   "outputs": [],
   "source": [
    "function fun(z,a,b)\n",
    "    res=a*z/(1+b*z)\n",
    "    return res\n",
    "end\n",
    "\n",
    "a1=5\n",
    "a2=0.1\n",
    "b1=2.5\n",
    "b2=2\n",
    "\n",
    "function rab(du,u,p,t)\n",
    "    du[1] = u[1].*(1-u[1])-fun(u[1],a1,b1)*u[2]\n",
    "    du[2] = fun(u[1],a1,b1)*u[2]-fun(u[2],a2,b2)*u[3]-0.4*u[2]\n",
    "    du[3] = fun(u[2],a2,b2)*u[3]-0.01*u[3]\n",
    "end\n",
    "\n",
    "u0 = [0.4;1;9]\n",
    "tspan = (0.0,3000.0)\n",
    "prob = ODEProblem(rab,u0,tspan)\n",
    "sol = solve(prob, Tsit5())\n",
    "p1=scatter(sol[1,400:end],sol[2,400:end],sol[3,400:end])\n",
    "p2=scatter(sol[1,400:end],sol[2,400:end])\n",
    "    \n",
    "plot(p1, p2, legend=false,title=\"b1=2.5\")"
   ]
  },
  {
   "cell_type": "code",
   "execution_count": null,
   "id": "2821b84d",
   "metadata": {
    "slideshow": {
     "slide_type": "slide"
    }
   },
   "outputs": [],
   "source": [
    "plot(sol)"
   ]
  },
  {
   "cell_type": "code",
   "execution_count": null,
   "id": "2d4b6e2b",
   "metadata": {
    "slideshow": {
     "slide_type": "fragment"
    }
   },
   "outputs": [],
   "source": [
    "When we change the value of $b_1$ to $6$, the system becomes chaotic"
   ]
  },
  {
   "cell_type": "code",
   "execution_count": null,
   "id": "41ee7123",
   "metadata": {
    "slideshow": {
     "slide_type": "slide"
    }
   },
   "outputs": [],
   "source": [
    "b1=6\n",
    "\n",
    "function rab(du,u,p,t)\n",
    "    du[1] = u[1].*(1-u[1])-fun(u[1],a1,b1)*u[2]\n",
    "    du[2] = fun(u[1],a1,b1)*u[2]-fun(u[2],a2,b2)*u[3]-0.4*u[2]\n",
    "    du[3] = fun(u[2],a2,b2)*u[3]-0.01*u[3]\n",
    "end\n",
    "\n",
    "u0 = [0.4;1;9]\n",
    "tspan = (0.0,3000.0)\n",
    "prob = ODEProblem(rab,u0,tspan)\n",
    "sol = solve(prob, Tsit5())\n",
    "plot(sol,vars=(1,2,3))"
   ]
  },
  {
   "cell_type": "code",
   "execution_count": null,
   "id": "ae697092",
   "metadata": {
    "slideshow": {
     "slide_type": "slide"
    }
   },
   "outputs": [],
   "source": [
    "plot(sol)"
   ]
  },
  {
   "cell_type": "markdown",
   "id": "c0ac8b2f",
   "metadata": {
    "slideshow": {
     "slide_type": "fragment"
    }
   },
   "source": [
    "- The process of solving chaotic problems numerically is no different from that of a regular ODE system\n",
    "- e.g. the Lorenz problem is simply a system of 3 IVPs\n",
    "\n",
    "$$\\frac{dx}{dt} = \\sigma(y-x), \\frac{dy}{dt}=x(\\rho-z)-y, \\frac{dz}{dt}=xy-\\beta z $$\n",
    "\n",
    "- The process is similar to solving any of the other ODEs we've solved in class\n",
    "- Throughout the presentation we opted to use the $\\texttt{Tsit5}$ method to solve our systems\n",
    "- Let's try our own implementation of Kutta third-order method and compare it to Improved Euler"
   ]
  },
  {
   "cell_type": "markdown",
   "id": "8a0af0a8",
   "metadata": {
    "slideshow": {
     "slide_type": "slide"
    }
   },
   "source": [
    "- Butcher tableau:\n",
    "$$\\begin{array}{c|ccc} \n",
    "    0 &   &   &   \\\\ \n",
    "    1/2 & 1/2 &   &   \\\\ \n",
    "    1 & -1 & 2 &     \\\\ \n",
    "    \\hline \n",
    "      & 1/6 & 2/3  & 1/6 \n",
    "\\end{array}$$ \n",
    "\n",
    "-  Improved Euler method\n",
    "$$\n",
    "    U_{n+1} = U_n + h \\frac{f(t_n, U_n) + f\\big(t_{n+1}, U_n + h f(t_n, U_n)\\big)}{2}\n",
    "$$ \n",
    "- $O(h^2)$ accuracy, 2 function evaluations per step"
   ]
  },
  {
   "cell_type": "code",
   "execution_count": null,
   "id": "3a1d970c",
   "metadata": {
    "slideshow": {
     "slide_type": "slide"
    }
   },
   "outputs": [],
   "source": [
    "function kutta3(f, u0, h, Tf)\n",
    "    t = 0.0:h:Tf \n",
    "    # make sure that h and Tf are compatible!\n",
    "    @assert t[end] ≈ Tf     \n",
    "    U = zeros(length(u0), length(t))\n",
    "    U[:, 1] = u0 \n",
    "    for tn = 1:length(t)-1\n",
    "        k1 = h * f(t[tn], U[:, tn])\n",
    "        k2 = h * f(t[tn] + 0.5 * h, U[:, tn] + 0.5 * k1)\n",
    "        k3 = h * f(t[tn] + 1 * h, U[:, tn] - 1 * k1 + 2 * k2)\n",
    "        U[:, tn+1] = U[:, tn] + (1/6)*k1 + (2/3)*k2 + (1/6)*k3\n",
    "    end\n",
    "    return U, t \n",
    "end\n",
    "\n",
    "function ieuler(f, u0, h, T)\n",
    "    t = 0.0:h:T \n",
    "    U = zeros(length(u0), length(t)); U[:, 1] = u0 \n",
    "    for n = 2:length(t) \n",
    "        F = f(t[n-1], U[:,n-1])\n",
    "        U[:,n] = U[:,n-1] + 0.5 * h * (F + f(t[n], U[:,n-1] + h * F))\n",
    "    end \n",
    "    return U, t\n",
    "end"
   ]
  },
  {
   "cell_type": "code",
   "execution_count": null,
   "id": "9aa49ab1",
   "metadata": {
    "slideshow": {
     "slide_type": "slide"
    }
   },
   "outputs": [],
   "source": [
    "f(t, u) = [10.0*(u[2]-u[1]), u[1]*(28.0-u[3]) - u[2], u[1]*u[2] - (8/3)*u[3]]\n",
    "f0 = [-15.0, -15.0, 20.0]\n",
    "rksoln, t_rk = kutta3(f, f0, 0.005, 30.0)\n",
    "ieulersoln, t_e = ieuler(f, f0, 0.005, 30.0)\n",
    "    \n",
    "plot(t_rk, rksoln[1,:], xlabel=\"\\$ t\\$\", ylabel=\"\\$ x(t)\", title=\"RK3 vs. Euler for Lorenz Problem \\$x(t), h=0.0005\\$\", label=\"RK3\")\n",
    "plot!(t_e, ieulersoln[1,:], label=\"Improved Euler\")"
   ]
  },
  {
   "cell_type": "markdown",
   "id": "1cf9263a",
   "metadata": {
    "slideshow": {
     "slide_type": "fragment"
    }
   },
   "source": [
    "- The solutions appear to diverge from each other around 7 time steps\n",
    "- Let's vary our step size and evaluate the value of the solution after a lengthy period of time"
   ]
  },
  {
   "cell_type": "code",
   "execution_count": null,
   "id": "da00c8c3",
   "metadata": {
    "scrolled": false,
    "slideshow": {
     "slide_type": "slide"
    }
   },
   "outputs": [],
   "source": [
    "times = 500:50:2000\n",
    "final_rk = []\n",
    "final_ie = []\n",
    "\n",
    "for time in times\n",
    "    rksoln, t_rk = kutta3(f, f0, 1/time, 1000.0)\n",
    "    ieulersoln, t_e = ieuler(f, f0, 1/time, 1000.0)\n",
    "    append!(final_rk, rksoln[1, end])\n",
    "    append!(final_ie, ieulersoln[1, end])\n",
    "end\n",
    "\n",
    "hs = []\n",
    "for time in times\n",
    "    append!(hs, 1/time)\n",
    "end\n",
    "\n",
    "scatter(hs, final_rk, title=\"Value of \\$x(t)\\$ at \\$t=1000.0\\$ vs. \\$h\\$\", xlabel=L\"h\", ylabel=\"\\$x(t)\\$\", label=\"\\$x(t)\\$ w/ RK3\")\n",
    "scatter!(hs, final_ie, label=\"\\$x(t)\\$ w/ IE\")"
   ]
  },
  {
   "cell_type": "markdown",
   "id": "c2c021b8",
   "metadata": {
    "slideshow": {
     "slide_type": "slide"
    }
   },
   "source": [
    "- Using both the third order Runge-Kutta method and improved Euler, there appears to be no correlation between the step size and the \"final value\" (i.e. solution value after some time period)\n",
    "- Going to smaller step sizes doesn't guarantee uniform convergence\n",
    "- Due to the butterfly-effect and floating point operations, numerical approaches cannot give a reliable long-term simulation of chaotic dynamic systems [2]\n",
    "- This is simply an implication of using numerics to evaluate chaotic problems"
   ]
  },
  {
   "cell_type": "markdown",
   "id": "3ef393ff",
   "metadata": {
    "slideshow": {
     "slide_type": "slide"
    }
   },
   "source": [
    "## Influence of Round-Off Errors"
   ]
  },
  {
   "cell_type": "markdown",
   "id": "848a8bd6",
   "metadata": {
    "slideshow": {
     "slide_type": "slide"
    }
   },
   "source": [
    "- When dealing with systems that are hypersensitive to initial perturbations, it is natural to want to investigate the impacts that round-off errors, an unfortunate byproduct of numerical computing, can have on the reliability of their simulation. \n",
    "\n",
    "- We will now examine these complications in the case of our pedagogical example of the Lorenz system, generalizing the example that we provided previously."
   ]
  },
  {
   "cell_type": "markdown",
   "id": "47f9d648",
   "metadata": {
    "slideshow": {
     "slide_type": "slide"
    }
   },
   "source": [
    "- In our previous example, we varied the step size in our numerical solver of the Lorenz system with parameters designed to elicit chaotic behaviour and observed a scattered distribution of end points. \n",
    "\n",
    "- In order to clearly observe the effects of round-off errors on the evolution of our system, it would be ideal if we had a limited number of well defined end points, between which we might observe oscillation as a function of step size.\n",
    "\n",
    "- Conveniently the Lorenz system has such a property when $\\rho$ is chosen as $1 < \\rho < 24.74$, with $\\beta = \\frac{8}{3}$ and $\\sigma = 10$. It is well known that with these initial conditions, fixed point attractors emerge at:\n",
    "\n",
    "\\begin{gather*}\n",
    "x = \\sqrt{\\beta(\\rho - 1)}, y = \\sqrt{\\beta(\\rho-1)}, z = \\rho - 1, \\\\\n",
    "and \\\\\n",
    "x = -\\sqrt{\\beta(\\rho - 1)}, y = -\\sqrt{\\beta(\\rho-1)}, z = \\rho - 1\n",
    "\\end{gather*}"
   ]
  },
  {
   "cell_type": "markdown",
   "id": "ecac803b",
   "metadata": {
    "slideshow": {
     "slide_type": "slide"
    }
   },
   "source": [
    "- To leverage this regime we will select $\\rho = 23$, with $\\beta$ and $\\sigma$ from before.\n",
    "\n",
    "- It has been shown that the 4th-order Runge-Kutta method with double precision exhibits a particular sensitivity to the choice of step-size $h$ [2].\n",
    "\n",
    "- Despite efforts to reduce $h$ and thus shrink truncation errors, final values over identical time horizons consistently fluctate between our two expected fixed points. "
   ]
  },
  {
   "cell_type": "code",
   "execution_count": null,
   "id": "a6164a65",
   "metadata": {
    "slideshow": {
     "slide_type": "slide"
    }
   },
   "outputs": [],
   "source": [
    "display(\"image/png\", read(\"chaotic_fluctuation.png\"))"
   ]
  },
  {
   "cell_type": "markdown",
   "id": "77b535b5",
   "metadata": {
    "slideshow": {
     "slide_type": "slide"
    }
   },
   "source": [
    "- Even when directly isolating round-off errors as the primary source of uncertainty by taking the truncation error to the $M$th-order, with $M > 30$, fluctuations in final values emerge in compute platforms that leverage multiple concurrent processes. \n",
    "\n",
    "- In order to avoid the uncertainty introduced by numerically solving the Lorenz equation, and indeed chaotic systems in general, it is crucial that both truncation and round-off errors be decreased simultaneously. \n",
    "\n",
    "- In fact, using the Mth-order Taylor series method with $M \\geq 130$ with 512-digit precision, numerical agreement can be achieved over the entire time interval even when accounting for varying numbers of computational processes and results obtained across different machines.\n",
    "\n",
    "- This relationship is illustrated clearly in the following plot. In this case the initial condition $(5,5,10)$ was was selected with $\\rho = 23$ and $\\beta$ and $\\sigma$ from the Lorenz system. "
   ]
  },
  {
   "cell_type": "code",
   "execution_count": null,
   "id": "d627266a",
   "metadata": {
    "slideshow": {
     "slide_type": "slide"
    }
   },
   "outputs": [],
   "source": [
    "display(\"image/png\", read(\"stability.png\"))"
   ]
  },
  {
   "cell_type": "markdown",
   "id": "283ae71e",
   "metadata": {
    "slideshow": {
     "slide_type": "slide"
    }
   },
   "source": [
    "- It is crucial to once again consider that this result was obtained on the Lorenz system with $\\textit{non-chaotic}$ initial conditions.\n",
    "\n",
    "- To eliminate troublesome round-off and truncation errors in this regime requires extreme levels of precision.\n",
    "\n",
    "- In one instance researchers required the use of a $3500$th-order Taylor expansion method with $4180$-point precision to achieve a convergent numerical solution to the chaotic Lorenz equation over a large time horizon $([0, 10000])$.\n",
    "\n",
    "- It is clear that numerically accurate simulations of chaotic dynamical solutions are particularly difficult to develop. We are eager to explore recent advances in addressing this issue more deeply."
   ]
  },
  {
   "cell_type": "markdown",
   "id": "48cd61d4",
   "metadata": {
    "slideshow": {
     "slide_type": "slide"
    }
   },
   "source": [
    "# References\n",
    "\n",
    "- [1] - https://en.wikipedia.org/wiki/Chaos_theory\n",
    "- [2] - https://www.researchgate.net/publication/318488232_Influence_of_round-off_errors_on_the_reliability_of_numerical_simulations_of_chaotic_dynamic_systems"
   ]
  }
 ],
 "metadata": {
  "celltoolbar": "Slideshow",
  "kernelspec": {
   "display_name": "Julia 1.7.3",
   "language": "julia",
   "name": "julia-1.7"
  },
  "language_info": {
   "file_extension": ".jl",
   "mimetype": "application/julia",
   "name": "julia",
   "version": "1.7.3"
  }
 },
 "nbformat": 4,
 "nbformat_minor": 5
}
