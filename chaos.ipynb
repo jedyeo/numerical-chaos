{
 "cells": [
  {
   "cell_type": "markdown",
   "id": "4364dbb0-1451-4fcf-96b6-444a8e43fd64",
   "metadata": {
    "slideshow": {
     "slide_type": "slide"
    }
   },
   "source": [
    "# MATH 405/607 \n",
    "\n",
    "# Chaos In The Context Of Dynamical Systems\n",
    "\n",
    "Callum Hepworth, Sandy Luo, Jed Yeo\n"
   ]
  },
  {
   "cell_type": "markdown",
   "id": "14540792",
   "metadata": {
    "slideshow": {
     "slide_type": "slide"
    }
   },
   "source": [
    "## Content\n",
    "\n",
    "1) Introduction to Chaos Theory\n",
    "2) Strange Attractor & Lorenz Problem\n",
    "3) Popular Examples of Chaos\n",
    "4) Studying Chaos Numerically (ODEs)"
   ]
  },
  {
   "cell_type": "markdown",
   "id": "fce0459b-68fe-4709-b389-b310b48deef2",
   "metadata": {
    "slideshow": {
     "slide_type": "slide"
    }
   },
   "source": [
    "## Introduction"
   ]
  },
  {
   "cell_type": "markdown",
   "id": "eddeb5ae",
   "metadata": {
    "slideshow": {
     "slide_type": "fragment"
    }
   },
   "source": [
    "- Chaos theory \n",
    "    - \"Study of random or unpredictable behaviour in systems governed by deterministic laws\" [1]\n",
    "    - Example: Pinball machine\n",
    "- Applications\n",
    "    - Turbulent flow\n",
    "    - Chemical reactions\n",
    "    - Planetary motion"
   ]
  },
  {
   "cell_type": "markdown",
   "id": "1867d8c6",
   "metadata": {
    "slideshow": {
     "slide_type": "subslide"
    }
   },
   "source": [
    "- Dynamical systems\n",
    "    - Highly sensitive to initial conditions\n",
    "    - i.e, adjusting initial conditions by some amount leads to interesting changes in the solution\n",
    "    - Behavior of dynamical chaotic systems appears random\n",
    "    - This is not the case - these systems are deterministic (future dynamics are fully defined by initial conditions)"
   ]
  },
  {
   "attachments": {},
   "cell_type": "markdown",
   "id": "d9a06653",
   "metadata": {
    "slideshow": {
     "slide_type": "subslide"
    }
   },
   "source": [
    "## Lorenz Heat Problem\n",
    "\n",
    "- Chaos first observed by Edward Lorenz in 1963 \n",
    "- The problem: atmospheric convection (three ODEs):\n",
    "\n",
    "$$\\frac{dx}{dt} = \\sigma(y-x), \\frac{dy}{dt}=x(\\rho-z)-y, \\frac{dz}{dt}=xy-\\beta z $$\n",
    "\n",
    "\n",
    "- These three equations relate the properties of a 2D fluid layer uniformly warmed from below and cooled from above\n",
    "- $x$ is proportional to rate of convection, $y$ to horizontal temperature gradient, $z$ to the vertical gradient\n",
    "- Constants depend on physical properties of the system\n",
    "\n"
   ]
  },
  {
   "cell_type": "code",
   "execution_count": 1,
   "id": "00abfe61-0d7c-4f04-8ebc-033adfd86bdf",
   "metadata": {
    "slideshow": {
     "slide_type": "slide"
    }
   },
   "outputs": [
    {
     "data": {
      "text/plain": [
       "lorenz (generic function with 1 method)"
      ]
     },
     "execution_count": 1,
     "metadata": {},
     "output_type": "execute_result"
    }
   ],
   "source": [
    "# We take σ = 10, ρ = 28, β = 8/3\n",
    "include(\"math405.jl\")\n",
    "using OrdinaryDiffEq, Plots\n",
    "function lorenz(du, u, p, t)\n",
    "    du[1] = 10.0*(u[2]-u[1])\n",
    "    du[2] = u[1]*(28.0-u[3]) - u[2]\n",
    "    du[3] = u[1]*u[2] - (8/3)*u[3]\n",
    "end"
   ]
  },
  {
   "cell_type": "code",
   "execution_count": null,
   "id": "b162dc1f",
   "metadata": {
    "slideshow": {
     "slide_type": "slide"
    }
   },
   "outputs": [
    {
     "name": "stderr",
     "output_type": "stream",
     "text": [
      "┌ Warning: To maintain consistency with solution indexing, keyword argument vars will be removed in a future version. Please use keyword argument idxs instead.\n",
      "│   caller = ip:0x0\n",
      "└ @ Core :-1\n"
     ]
    }
   ],
   "source": [
    "u0 = [-15.0;-15.0;20.0]\n",
    "tspan = (0.0,100.0)\n",
    "prob = ODEProblem(lorenz,u0,tspan)\n",
    "sol0 = solve(prob, Tsit5())\n",
    "plot(sol0, vars=(1,2,3))"
   ]
  },
  {
   "cell_type": "code",
   "execution_count": null,
   "id": "dc722df7",
   "metadata": {
    "slideshow": {
     "slide_type": "slide"
    }
   },
   "outputs": [],
   "source": [
    "u1 = [-15.0;-15.0;20.0001]\n",
    "prob = ODEProblem(lorenz,u1,tspan)\n",
    "sol1 = solve(prob, Tsit5())\n",
    "plot(sol1, vars=(1,2,3))"
   ]
  },
  {
   "cell_type": "markdown",
   "id": "41a4b5df-34b2-4ae9-bbe1-3c5590608bca",
   "metadata": {
    "slideshow": {
     "slide_type": "fragment"
    }
   },
   "source": [
    "- These butterfly-like shapes reveal the structure of the \"stranger attractor\" for the Lorenz problem\n",
    "- A mere adjustment of $1\\times10^{-4}$ in the third initial condition yields a vastly different solution space"
   ]
  },
  {
   "cell_type": "markdown",
   "id": "557ce6ba",
   "metadata": {
    "slideshow": {
     "slide_type": "slide"
    }
   },
   "source": [
    "- There isn't a universally accepted definition of chaos, but in general a chaotic problem must loosely follow these guidelines:\n",
    "   - 1) be sensitive to initial conditions\n",
    "   - 2) be topologically transitive\n",
    "   - 3) have dense periodic orbits\n",
    "- It can be shown that the last two imply the first; we will not discuss these conditons as we are mainly interested in pertubations of the initial condition(s)."
   ]
  },
  {
   "cell_type": "code",
   "execution_count": null,
   "id": "faf96f6f",
   "metadata": {
    "slideshow": {
     "slide_type": "slide"
    }
   },
   "outputs": [],
   "source": [
    "# @gif for m = 1:50\n",
    "#     u0 = [-15.0;-15.0;20]\n",
    "#     tspan = (0.0,m*2.0)\n",
    "#     prob = ODEProblem(lorenz,u0,tspan)\n",
    "#     sol0 = solve(prob, Tsit5())\n",
    "#     plot(sol0,vars=(1,3))\n",
    "# end"
   ]
  },
  {
   "cell_type": "code",
   "execution_count": null,
   "id": "0755d925",
   "metadata": {
    "slideshow": {
     "slide_type": "slide"
    }
   },
   "outputs": [],
   "source": [
    "# @gif for m = 1:50\n",
    "#     u1 = [-15.0;-15.0;20.0001]\n",
    "#     tspan = (0.0,m*2.0)\n",
    "#     prob = ODEProblem(lorenz,u1,tspan)\n",
    "#     sol1 = solve(prob, Tsit5())\n",
    "#     plot(sol1,vars=(1,3),color=\"orange\")\n",
    "# end"
   ]
  },
  {
   "cell_type": "code",
   "execution_count": null,
   "id": "d740a6bc",
   "metadata": {
    "slideshow": {
     "slide_type": "slide"
    }
   },
   "outputs": [],
   "source": [
    "plot(sol0, vars=(1,3), xlabel=L\"x\", ylabel=L\"z\", label=\"\\$ z(0)=20 \\$\", title=\"\\$ xz\\$ plane with differing ICs\")\n",
    "plot!(sol1, vars=(1,3), label=\"\\$ z(0)=20.0001 \\$\")"
   ]
  },
  {
   "cell_type": "markdown",
   "id": "b7e51da5-c30c-4f4f-ab3b-2a247cb8744b",
   "metadata": {
    "slideshow": {
     "slide_type": "slide"
    }
   },
   "source": [
    "## Strange Attractors"
   ]
  },
  {
   "cell_type": "markdown",
   "id": "0b24797c",
   "metadata": {
    "slideshow": {
     "slide_type": "fragment"
    }
   },
   "source": [
    "- Classical mechanics\n",
    "    - Dynamical system's behavior can be described as motion on an “attractor\"."
   ]
  },
  {
   "cell_type": "code",
   "execution_count": null,
   "id": "d63f7b98",
   "metadata": {
    "slideshow": {
     "slide_type": "fragment"
    }
   },
   "outputs": [],
   "source": [
    "z = 1"
   ]
  },
  {
   "cell_type": "markdown",
   "id": "d801698a",
   "metadata": {
    "slideshow": {
     "slide_type": "slide"
    }
   },
   "source": [
    "## Popular Examples of Chaos"
   ]
  },
  {
   "cell_type": "markdown",
   "id": "5b2e9894",
   "metadata": {
    "slideshow": {
     "slide_type": "fragment"
    }
   },
   "source": [
    "i love examples\n",
    "\n",
    "- Rossler equations\n",
    "- Chaotic nonlinear forced operator"
   ]
  },
  {
   "cell_type": "code",
   "execution_count": null,
   "id": "49a98903",
   "metadata": {
    "slideshow": {
     "slide_type": "fragment"
    }
   },
   "outputs": [],
   "source": [
    "example = 0"
   ]
  },
  {
   "cell_type": "markdown",
   "id": "3434e5eb",
   "metadata": {
    "slideshow": {
     "slide_type": "slide"
    }
   },
   "source": [
    "## Studying Chaos Numerically"
   ]
  },
  {
   "cell_type": "markdown",
   "id": "c0ac8b2f",
   "metadata": {
    "slideshow": {
     "slide_type": "fragment"
    }
   },
   "source": [
    "- The process of solving chaotic problems numerically is no different from that of a regular ODE system\n",
    "- e.g. the Lorenz problem is simply a system of 3 IVPs\n",
    "\n",
    "$$\\frac{dx}{dt} = \\sigma(y-x), \\frac{dy}{dt}=x(\\rho-z)-y, \\frac{dz}{dt}=xy-\\beta z $$\n",
    "\n",
    "- The process is similar to solving any of the other ODEs we've solved in class\n",
    "- Throughout the presentation we opted to use the $\\texttt{Tsit5}$ method to solve our systems\n",
    "- Let's try our own implementation of Kutta third-order method and compare it to Improved Euler"
   ]
  },
  {
   "cell_type": "markdown",
   "id": "8a0af0a8",
   "metadata": {
    "slideshow": {
     "slide_type": "slide"
    }
   },
   "source": [
    "- Butcher tableau:\n",
    "$$\\begin{array}{c|ccc} \n",
    "    0 &   &   &   \\\\ \n",
    "    1/2 & 1/2 &   &   \\\\ \n",
    "    1 & -1 & 2 &     \\\\ \n",
    "    \\hline \n",
    "      & 1/6 & 2/3  & 1/6 \n",
    "\\end{array}$$ \n",
    "\n",
    "-  Improved Euler method\n",
    "$$\n",
    "    U_{n+1} = U_n + h \\frac{f(t_n, U_n) + f\\big(t_{n+1}, U_n + h f(t_n, U_n)\\big)}{2}\n",
    "$$ \n",
    "- $O(h^2)$ accuracy, 2 function evaluations per step"
   ]
  },
  {
   "cell_type": "code",
   "execution_count": null,
   "id": "3a1d970c",
   "metadata": {
    "slideshow": {
     "slide_type": "slide"
    }
   },
   "outputs": [],
   "source": [
    "function kutta3(f, u0, h, Tf)\n",
    "    t = 0.0:h:Tf \n",
    "    # make sure that h and Tf are compatible!\n",
    "    @assert t[end] ≈ Tf     \n",
    "    U = zeros(length(u0), length(t))\n",
    "    U[:, 1] = u0 \n",
    "    for tn = 1:length(t)-1\n",
    "        k1 = h * f(t[tn], U[:, tn])\n",
    "        k2 = h * f(t[tn] + 0.5 * h, U[:, tn] + 0.5 * k1)\n",
    "        k3 = h * f(t[tn] + 1 * h, U[:, tn] - 1 * k1 + 2 * k2)\n",
    "        U[:, tn+1] = U[:, tn] + (1/6)*k1 + (2/3)*k2 + (1/6)*k3\n",
    "    end\n",
    "    return U, t \n",
    "end\n",
    "\n",
    "function ieuler(f, u0, h, T)\n",
    "    t = 0.0:h:T \n",
    "    U = zeros(length(u0), length(t)); U[:, 1] = u0 \n",
    "    for n = 2:length(t) \n",
    "        F = f(t[n-1], U[:,n-1])\n",
    "        U[:,n] = U[:,n-1] + 0.5 * h * (F + f(t[n], U[:,n-1] + h * F))\n",
    "    end \n",
    "    return U, t\n",
    "end"
   ]
  },
  {
   "cell_type": "code",
   "execution_count": null,
   "id": "9aa49ab1",
   "metadata": {
    "slideshow": {
     "slide_type": "slide"
    }
   },
   "outputs": [],
   "source": [
    "f(t, u) = [10.0*(u[2]-u[1]), u[1]*(28.0-u[3]) - u[2], u[1]*u[2] - (8/3)*u[3]]\n",
    "f0 = [-15.0, -15.0, 20.0]\n",
    "rksoln, t_rk = kutta3(f, f0, 0.005, 30.0)\n",
    "ieulersoln, t_e = ieuler(f, f0, 0.005, 30.0)\n",
    "    \n",
    "plot(t_rk, rksoln[1,:], xlabel=\"\\$ t\\$\", ylabel=\"\\$ x(t)\", title=\"RK3 vs. Euler for Lorenz Problem \\$x(t), h=0.0005\\$\", label=\"RK3\")\n",
    "plot!(t_e, ieulersoln[1,:], label=\"Improved Euler\")"
   ]
  },
  {
   "cell_type": "markdown",
   "id": "1cf9263a",
   "metadata": {
    "slideshow": {
     "slide_type": "fragment"
    }
   },
   "source": [
    "- The solutions appear to diverge from each other around 7 time steps\n",
    "- Let's vary our step size and evaluate the value of the solution after a lengthy period of time"
   ]
  },
  {
   "cell_type": "code",
   "execution_count": null,
   "id": "da00c8c3",
   "metadata": {
    "scrolled": false,
    "slideshow": {
     "slide_type": "slide"
    }
   },
   "outputs": [],
   "source": [
    "times = 500:50:2000\n",
    "final_rk = []\n",
    "final_ie = []\n",
    "\n",
    "for time in times\n",
    "    rksoln, t_rk = kutta3(f, f0, 1/time, 1000.0)\n",
    "    ieulersoln, t_e = ieuler(f, f0, 1/time, 1000.0)\n",
    "    append!(final_rk, rksoln[1, end])\n",
    "    append!(final_ie, ieulersoln[1, end])\n",
    "end\n",
    "\n",
    "hs = []\n",
    "for time in times\n",
    "    append!(hs, 1/time)\n",
    "end\n",
    "\n",
    "scatter(hs, final_rk, title=\"Value of \\$x(t)\\$ at \\$t=1000.0\\$ vs. \\$h\\$\", xlabel=L\"h\", ylabel=\"\\$x(t)\\$\", label=\"\\$x(t)\\$ w/ RK3\")\n",
    "scatter!(hs, final_ie, label=\"\\$x(t)\\$ w/ IE\")"
   ]
  },
  {
   "cell_type": "markdown",
   "id": "c2c021b8",
   "metadata": {
    "slideshow": {
     "slide_type": "slide"
    }
   },
   "source": [
    "- Using both the third order Runge-Kutta method and improved Euler, there appears to be no correlation between the step size and the \"final value\" (i.e. solution value after some time period)\n",
    "- Going to smaller step sizes doesn't guarantee uniform convergence\n",
    "- Due to the butterfly-effect and floating point operations, numerical approaches cannot give a reliable long-term simulation of chaotic dynamic systems [2]\n",
    "- This is simply an implication of using numerics to evaluate chaotic problems"
   ]
  },
  {
   "cell_type": "markdown",
   "id": "48cd61d4",
   "metadata": {
    "slideshow": {
     "slide_type": "slide"
    }
   },
   "source": [
    "# References\n",
    "\n",
    "- [1] - zzzz\n",
    "- [2] - https://www.researchgate.net/publication/318488232_Influence_of_round-off_errors_on_the_reliability_of_numerical_simulations_of_chaotic_dynamic_systems"
   ]
  },
  {
   "cell_type": "code",
   "execution_count": null,
   "id": "e6d31f76",
   "metadata": {},
   "outputs": [],
   "source": []
  }
 ],
 "metadata": {
  "celltoolbar": "Slideshow",
  "kernelspec": {
   "display_name": "Julia 1.7.3",
   "language": "julia",
   "name": "julia-1.7"
  },
  "language_info": {
   "file_extension": ".jl",
   "mimetype": "application/julia",
   "name": "julia",
   "version": "1.7.3"
  }
 },
 "nbformat": 4,
 "nbformat_minor": 5
}
