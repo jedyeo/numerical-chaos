{
 "cells": [
  {
   "cell_type": "markdown",
   "id": "4364dbb0-1451-4fcf-96b6-444a8e43fd64",
   "metadata": {
    "slideshow": {
     "slide_type": "slide"
    }
   },
   "source": [
    "# MATH 405/607 \n",
    "\n",
    "# Chaos In The Context Of Dynamical Systems\n",
    "\n",
    "Callum Hepworth, Sandy Luo, Jed Yeo\n"
   ]
  },
  {
   "cell_type": "markdown",
   "id": "14540792",
   "metadata": {
    "slideshow": {
     "slide_type": "slide"
    }
   },
   "source": [
    "## Content\n",
    "\n",
    "1) Introduction to Chaos Theory\n",
    "2) Strange Attractor & Lorenz Problem\n",
    "3) Popular Examples of Chaos\n",
    "4) Studying Chaos Numerically (ODEs)"
   ]
  },
  {
   "cell_type": "markdown",
   "id": "fce0459b-68fe-4709-b389-b310b48deef2",
   "metadata": {
    "slideshow": {
     "slide_type": "slide"
    }
   },
   "source": [
    "## Introduction"
   ]
  },
  {
   "cell_type": "markdown",
   "id": "eddeb5ae",
   "metadata": {
    "slideshow": {
     "slide_type": "fragment"
    }
   },
   "source": [
    "- Chaos theory \n",
    "    - \"Study of random or unpredictable behaviour in systems governed by deterministic laws\" [1]\n",
    "    - Example: Pinball machine\n",
    "- Applications\n",
    "    - Turbulent flow\n",
    "    - Chemical reactions\n",
    "    - Planetary motion"
   ]
  },
  {
   "cell_type": "markdown",
   "id": "1867d8c6",
   "metadata": {
    "slideshow": {
     "slide_type": "subslide"
    }
   },
   "source": [
    "- Dynamical systems\n",
    "    - Highly sensitive to initial conditions\n",
    "    - i.e, adjusting initial conditions by some amount leads to interesting changes in the solution\n",
    "    - Behavior of dynamical chaotic systems appears random\n",
    "    - This is not the case - these systems are deterministic (future dynamics are fully defined by initial conditions)"
   ]
  },
  {
   "attachments": {},
   "cell_type": "markdown",
   "id": "d9a06653",
   "metadata": {
    "slideshow": {
     "slide_type": "subslide"
    }
   },
   "source": [
    "## Lorenz Heat Problem\n",
    "\n",
    "- Chaos first observed by Edward Lorenz in 1963 \n",
    "- The problem: atmospheric convection (three ODEs):\n",
    "\n",
    "$$\\frac{dx}{dt} = \\sigma(y-x), \\frac{dy}{dt}=x(\\rho-z)-y, \\frac{dz}{dt}=xy-\\beta z $$\n",
    "\n",
    "\n",
    "- These three equations relate the properties of a 2D fluid layer uniformly warmed from below and cooled from above\n",
    "- $x$ is proportional to rate of convection, $y$ to horizontal temperature gradient, $z$ to the vertical gradient\n",
    "- Constants depend on physical properties of the system\n",
    "\n"
   ]
  },
  {
   "cell_type": "code",
   "execution_count": 1,
   "id": "00abfe61-0d7c-4f04-8ebc-033adfd86bdf",
   "metadata": {
    "slideshow": {
     "slide_type": "slide"
    }
   },
   "outputs": [
    {
     "data": {
      "text/plain": [
       "lorenz (generic function with 1 method)"
      ]
     },
     "execution_count": 1,
     "metadata": {},
     "output_type": "execute_result"
    }
   ],
   "source": [
    "# We take σ = 10, ρ = 28, β = 8/3\n",
    "include(\"math405.jl\")\n",
    "using OrdinaryDiffEq, Plots\n",
    "function lorenz(du, u, p, t)\n",
    "    du[1] = 10.0*(u[2]-u[1])\n",
    "    du[2] = u[1]*(28.0-u[3]) - u[2]\n",
    "    du[3] = u[1]*u[2] - (8/3)*u[3]\n",
    "end"
   ]
  },
  {
   "cell_type": "code",
   "execution_count": null,
   "id": "b162dc1f",
   "metadata": {
    "slideshow": {
     "slide_type": "slide"
    }
   },
   "outputs": [
    {
     "name": "stderr",
     "output_type": "stream",
     "text": [
      "┌ Warning: To maintain consistency with solution indexing, keyword argument vars will be removed in a future version. Please use keyword argument idxs instead.\n",
      "│   caller = ip:0x0\n",
      "└ @ Core :-1\n"
     ]
    }
   ],
   "source": [
    "u0 = [-15.0;-15.0;20.0]\n",
    "tspan = (0.0,100.0)\n",
    "prob = ODEProblem(lorenz,u0,tspan)\n",
    "sol0 = solve(prob, Tsit5())\n",
    "plot(sol0, vars=(1,2,3))"
   ]
  },
  {
   "cell_type": "code",
   "execution_count": null,
   "id": "dc722df7",
   "metadata": {
    "slideshow": {
     "slide_type": "slide"
    }
   },
   "outputs": [],
   "source": [
    "u1 = [-15.0;-15.0;20.0001]\n",
    "prob = ODEProblem(lorenz,u1,tspan)\n",
    "sol1 = solve(prob, Tsit5())\n",
    "plot(sol1, vars=(1,2,3))"
   ]
  },
  {
   "cell_type": "markdown",
   "id": "41a4b5df-34b2-4ae9-bbe1-3c5590608bca",
   "metadata": {
    "slideshow": {
     "slide_type": "fragment"
    }
   },
   "source": [
    "- These butterfly-like shapes reveal the structure of the \"stranger attractor\" for the Lorenz problem\n",
    "- A mere adjustment of $1\\times10^{-4}$ in the third initial condition yields a vastly different solution space\n",
    "- Note that the choice of ICs affect the chaotic nature of the Lorenz problem!"
   ]
  },
  {
   "cell_type": "code",
   "execution_count": null,
   "id": "c856023f",
   "metadata": {
    "slideshow": {
     "slide_type": "slide"
    }
   },
   "outputs": [],
   "source": [
    "@gif for m = 1:50\n",
    "    u0 = [-15.0;-15.0;20]\n",
    "    tspan = (0.0,m*2.0)\n",
    "    prob = ODEProblem(lorenz,u0,tspan)\n",
    "    sol0 = solve(prob, Tsit5())\n",
    "    plot(sol0,vars=(1,3))R\n",
    "end"
   ]
  },
  {
   "cell_type": "code",
   "execution_count": null,
   "id": "41096def",
   "metadata": {
    "slideshow": {
     "slide_type": "slide"
    }
   },
   "outputs": [],
   "source": [
    "@gif for m = 1:50\n",
    "    u1 = [-15.0;-15.0;20.0001]\n",
    "    tspan = (0.0,m*2.0)\n",
    "    prob = ODEProblem(lorenz,u1,tspan)\n",
    "    sol1 = solve(prob, Tsit5())\n",
    "    plot(sol1,vars=(1,3),color=\"orange\")\n",
    "end"
   ]
  },
  {
   "cell_type": "code",
   "execution_count": null,
   "id": "1d0b8ef4",
   "metadata": {
    "slideshow": {
     "slide_type": "slide"
    }
   },
   "outputs": [],
   "source": [
    "plot(sol0, vars=(1,3), xlabel=L\"x\", ylabel=L\"z\", label=\"\\$ z(0)=20 \\$\", title=\"\\$ xz\\$ plane with differing ICs\")\n",
    "plot!(sol1, vars=(1,3), label=\"\\$ z(0)=20.0001 \\$\")"
   ]
  },
  {
   "cell_type": "markdown",
   "id": "b7e51da5-c30c-4f4f-ab3b-2a247cb8744b",
   "metadata": {
    "slideshow": {
     "slide_type": "slide"
    }
   },
   "source": [
    "## Strange Attractors"
   ]
  },
  {
   "cell_type": "markdown",
   "id": "0b24797c",
   "metadata": {
    "slideshow": {
     "slide_type": "fragment"
    }
   },
   "source": [
    "- Classical mechanics\n",
    "    - Dynamical system's behavior can be described as motion on an “attractor\"."
   ]
  },
  {
   "cell_type": "code",
   "execution_count": null,
   "id": "d63f7b98",
   "metadata": {
    "slideshow": {
     "slide_type": "fragment"
    }
   },
   "outputs": [],
   "source": [
    "z = 1"
   ]
  },
  {
   "cell_type": "markdown",
   "id": "d801698a",
   "metadata": {
    "slideshow": {
     "slide_type": "slide"
    }
   },
   "source": [
    "## Popular Examples of Chaos"
   ]
  },
  {
   "cell_type": "markdown",
   "id": "5b2e9894",
   "metadata": {
    "slideshow": {
     "slide_type": "fragment"
    }
   },
   "source": [
    "i love examples\n",
    "\n",
    "- Rossler equations\n",
    "- Chaotic nonlinear forced operator"
   ]
  },
  {
   "cell_type": "code",
   "execution_count": null,
   "id": "49a98903",
   "metadata": {
    "slideshow": {
     "slide_type": "fragment"
    }
   },
   "outputs": [],
   "source": [
    "example = 0"
   ]
  },
  {
   "cell_type": "markdown",
   "id": "3434e5eb",
   "metadata": {
    "slideshow": {
     "slide_type": "slide"
    }
   },
   "source": [
    "## Studying Chaos Numerically"
   ]
  },
  {
   "cell_type": "markdown",
   "id": "c0ac8b2f",
   "metadata": {
    "slideshow": {
     "slide_type": "fragment"
    }
   },
   "source": [
    "- The process of solving chaotic problems numerically is no different from that of a regular ODE system\n",
    "- e.g. the Lorenz problem is simply a system of 3 IVPs\n",
    "\n",
    "$$\\frac{dx}{dt} = \\sigma(y-x), \\frac{dy}{dt}=x(\\rho-z)-y, \\frac{dz}{dt}=xy-\\beta z $$\n",
    "\n",
    "- The process is similar to solving any of the other ODEs we've solved in class\n",
    "- Throughout the presentation we opted to use the $\\texttt{Tsit5}$ method to solve our systems\n",
    "- Let's try our own implementation of Kutta third-order method"
   ]
  },
  {
   "cell_type": "markdown",
   "id": "c468aba7",
   "metadata": {
    "slideshow": {
     "slide_type": "slide"
    }
   },
   "source": [
    "- Butcher tableau:\n",
    "$$\\begin{array}{c|ccc} \n",
    "    0 &   &   &   \\\\ \n",
    "    1/2 & 1/2 &   &   \\\\ \n",
    "    1 & -1 & 2 &     \\\\ \n",
    "    \\hline \n",
    "      & 1/6 & 2/3  & 1/6 \n",
    "\\end{array}$$ "
   ]
  },
  {
   "cell_type": "code",
   "execution_count": null,
   "id": "3a1d970c",
   "metadata": {
    "slideshow": {
     "slide_type": "slide"
    }
   },
   "outputs": [],
   "source": [
    "function kutta3(f, u0, h, Tf)\n",
    "    t = 0.0:h:Tf \n",
    "    # make sure that h and Tf are compatible!\n",
    "    @assert t[end] ≈ Tf     \n",
    "    U = zeros(length(u0), length(t))\n",
    "    U[:, 1] = u0 \n",
    "    for tn = 1:length(t)-1\n",
    "        k1 = h * f(t[tn], U[:, tn])\n",
    "        k2 = h * f(t[tn] + 0.5 * h, U[:, tn] + 0.5 * k1)\n",
    "        k3 = h * f(t[tn] + 1 * h, U[:, tn] - 1 * k1 + 2 * k2)\n",
    "        U[:, tn+1] = U[:, tn] + (1/6)*k1 + (2/3)*k2 + (1/6)*k3\n",
    "    end\n",
    "    return U, t\n",
    "end"
   ]
  },
  {
   "cell_type": "code",
   "execution_count": null,
   "id": "6652fbf4",
   "metadata": {
    "slideshow": {
     "slide_type": "slide"
    }
   },
   "outputs": [],
   "source": [
    "f(t, u) = [10.0*(u[2]-u[1]), u[1]*(28.0-u[3]) - u[2], u[1]*u[2] - (8/3)*u[3]]\n",
    "f0 = [-15.0, -15.0, 20.0]\n",
    "f1 = [-15.0, -15.0, 20.0001]\n",
    "\n",
    "soln0, tt = kutta3(f, f0, 0.05, 30.0)\n",
    "soln1, tt = kutta3(f, f1, 0.05, 30.0)\n",
    "plot(tt, soln0[1,:], label=\"\\$ z(0)=20 \\$\", xlabel=\"\\$ t\\$\", ylabel=\"\\$x(t)\", title=\"Lorenz problem (RK3) \\$ x(t)\\$ with varying \\$z(0)\\$\")\n",
    "plot!(tt, soln1[1,:], label=\"\\$ z(0)=20.0001 \\$\")"
   ]
  },
  {
   "cell_type": "markdown",
   "id": "023b5005",
   "metadata": {
    "slideshow": {
     "slide_type": "fragment"
    }
   },
   "source": [
    "- The two intial coniditons differ by a mere $0.0001$, one would expect the solutions to be similar\n",
    "- For about 10 time units they are!\n"
   ]
  },
  {
   "cell_type": "markdown",
   "id": "c3c310bb",
   "metadata": {
    "slideshow": {
     "slide_type": "slide"
    }
   },
   "source": [
    "- Let's try Euler method\n",
    "$$ \n",
    "  U_{n+1} = U_n + h f(t_n, U_n)\n",
    "$$\n",
    "- vs. Improved Euler method\n",
    "$$\n",
    "    U_{n+1} = U_n + h \\frac{f(t_n, U_n) + f\\big(t_{n+1}, U_n + h f(t_n, U_n)\\big)}{2}\n",
    "$$ \n",
    "- $O(h^2)$ accuracy, 2 function evaluations per step"
   ]
  },
  {
   "cell_type": "code",
   "execution_count": null,
   "id": "d81d9f64",
   "metadata": {
    "slideshow": {
     "slide_type": "slide"
    }
   },
   "outputs": [],
   "source": [
    "function euler(f, u0, h, T)\n",
    "    t = 0.0:h:T \n",
    "    U = zeros(length(u0), length(t)); U[:, 1] = u0 \n",
    "    for n = 2:length(t) \n",
    "        U[:,n] = U[:,n-1] + h * f(t[n-1], U[:,n-1])\n",
    "    end \n",
    "    return U, t\n",
    "end\n",
    "\n",
    "function ieuler(f, u0, h, T)\n",
    "    t = 0.0:h:T \n",
    "    U = zeros(length(u0), length(t)); U[:, 1] = u0 \n",
    "    for n = 2:length(t) \n",
    "        F = f(t[n-1], U[:,n-1])\n",
    "        U[:,n] = U[:,n-1] + 0.5 * h * (F + f(t[n], U[:,n-1] + h * F))\n",
    "    end \n",
    "    return U, t\n",
    "end"
   ]
  },
  {
   "cell_type": "code",
   "execution_count": null,
   "id": "3e754c41",
   "metadata": {
    "slideshow": {
     "slide_type": "slide"
    }
   },
   "outputs": [],
   "source": [
    "eulersoln, ttt0 = euler(f, f0, 0.05, 30.0)\n",
    "ieulersoln, ttt1 = ieuler(f, f0, 0.05, 30.0)\n",
    "plot(ttt0, eulersoln[1,:])\n",
    "#plot!(ttt1, ieulersoln[1,:])"
   ]
  },
  {
   "cell_type": "code",
   "execution_count": null,
   "id": "ac892628",
   "metadata": {},
   "outputs": [],
   "source": []
  }
 ],
 "metadata": {
  "celltoolbar": "Slideshow",
  "kernelspec": {
   "display_name": "Julia 1.7.3",
   "language": "julia",
   "name": "julia-1.7"
  },
  "language_info": {
   "file_extension": ".jl",
   "mimetype": "application/julia",
   "name": "julia",
   "version": "1.7.3"
  }
 },
 "nbformat": 4,
 "nbformat_minor": 5
}
