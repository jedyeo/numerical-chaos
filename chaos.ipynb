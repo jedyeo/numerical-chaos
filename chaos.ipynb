{
 "cells": [
  {
   "cell_type": "markdown",
   "id": "4364dbb0-1451-4fcf-96b6-444a8e43fd64",
   "metadata": {
    "slideshow": {
     "slide_type": "slide"
    }
   },
   "source": [
    "# MATH 405/607 \n",
    "\n",
    "# Chaos In The Context Of Dynamical Systems\n",
    "\n",
    "Callum Hepworth, Sandy Luo, Jed Yeo\n"
   ]
  },
  {
   "cell_type": "markdown",
   "id": "14540792",
   "metadata": {
    "slideshow": {
     "slide_type": "slide"
    }
   },
   "source": [
    "## Content\n",
    "\n",
    "1) Introduction to Chaos Theory\n",
    "2) Strange Attractor & Lorenz Problem\n",
    "3) Popular Examples of Chaos\n",
    "4) Studying Chaos Numerically (ODEs)"
   ]
  },
  {
   "cell_type": "markdown",
   "id": "fce0459b-68fe-4709-b389-b310b48deef2",
   "metadata": {
    "slideshow": {
     "slide_type": "slide"
    }
   },
   "source": [
    "## Introduction"
   ]
  },
  {
   "cell_type": "markdown",
   "id": "eddeb5ae",
   "metadata": {
    "slideshow": {
     "slide_type": "fragment"
    }
   },
   "source": [
    "- Chaos theory \n",
    "    - \"Study of random or unpredictable behaviour in systems governed by deterministic laws\" [1]\n",
    "    - Example: Pinball machine\n",
    "- Applications\n",
    "    - Turbulent flow\n",
    "    - Chemical reactions\n",
    "    - Planetary motion"
   ]
  },
  {
   "cell_type": "markdown",
   "id": "1867d8c6",
   "metadata": {
    "slideshow": {
     "slide_type": "subslide"
    }
   },
   "source": [
    "- Dynamical systems\n",
    "    - Highly sensitive to initial conditions\n",
    "    - i.e, adjusting initial conditions by some amount leads to interesting changes in the solution\n",
    "    - Behavior of dynamical chaotic systems appears random\n",
    "    - This is not the case - these systems are deterministic (future dynamics are fully defined by initial conditions)"
   ]
  },
  {
   "cell_type": "markdown",
   "id": "d9a06653",
   "metadata": {
    "slideshow": {
     "slide_type": "subslide"
    }
   },
   "source": [
    "## Lorenz Heat Problem\n",
    "\n",
    "- Chaos first observed by Edward Lorenz in 1963 \n",
    "- The problem: atmospheric convection (three ODEs):\n",
    "\n",
    "$$\\frac{dx}{dt} = \\sigma(y-x), \\frac{dy}{dt}=x(\\rho-z)-y, \\frac{dz}{dt}=xy-\\beta z $$\n",
    "\n",
    "\n",
    "- These three equations relate the properties of a 2D fluid layer uniformly warmed from below and cooled from above\n",
    "- $x$ is proportional to rate of convection, $y$ to horizontal temperature gradient, $z$ to the vertical gradient\n",
    "- Constants depend on physical properties of the system\n",
    "\n"
   ]
  },
  {
   "cell_type": "code",
   "execution_count": 1,
   "id": "00abfe61-0d7c-4f04-8ebc-033adfd86bdf",
   "metadata": {
    "slideshow": {
     "slide_type": "slide"
    }
   },
   "outputs": [
    {
     "data": {
      "text/plain": [
       "lorenz (generic function with 1 method)"
      ]
     },
     "execution_count": 1,
     "metadata": {},
     "output_type": "execute_result"
    }
   ],
   "source": [
    "# We take σ = 10, ρ = 28, β = 8/3\n",
    "include(\"math405.jl\")\n",
    "using OrdinaryDiffEq, Plots\n",
    "function lorenz(du,u,p,t)\n",
    "    du[1] = 10.0*(u[2]-u[1])\n",
    "    du[2] = u[1]*(28.0-u[3]) - u[2]\n",
    "    du[3] = u[1]*u[2] - (8/3)*u[3]\n",
    "end"
   ]
  },
  {
   "cell_type": "code",
   "execution_count": null,
   "id": "b162dc1f",
   "metadata": {
    "slideshow": {
     "slide_type": "slide"
    }
   },
   "outputs": [],
   "source": [
    "u0 = [-15.0;-15.0;20.0]\n",
    "tspan = (0.0,100.0)\n",
    "prob = ODEProblem(lorenz,u0,tspan)\n",
    "sol = solve(prob, Tsit5())\n",
    "plot(sol,vars=(1,2,3))"
   ]
  },
  {
   "cell_type": "code",
   "execution_count": null,
   "id": "dc722df7",
   "metadata": {
    "slideshow": {
     "slide_type": "slide"
    }
   },
   "outputs": [],
   "source": [
    "u1 = [-15.0;-15.0;20.0001]\n",
    "prob = ODEProblem(lorenz,u1,tspan)\n",
    "sol = solve(prob, Tsit5())\n",
    "plot(sol,vars=(1,2,3))"
   ]
  },
  {
   "cell_type": "markdown",
   "id": "41a4b5df-34b2-4ae9-bbe1-3c5590608bca",
   "metadata": {},
   "source": [
    "- These butterfly-like shapes reveal the structure of the \"stranger attractor\" for the Lorenz problem\n",
    "- A mere adjustment of $1\\times10^{-4}$ in the third initial condition yields a vastly different solution space"
   ]
  },
  {
   "cell_type": "code",
   "execution_count": null,
   "id": "36692366-a0b0-4c7b-9dee-5fbbe8204c3a",
   "metadata": {},
   "outputs": [],
   "source": [
    " "
   ]
  },
  {
   "cell_type": "markdown",
   "id": "87e47ab8-8f27-46fc-9de1-277020892a38",
   "metadata": {},
   "source": [
    "- Lorenz's choices for $\\beta = \\frac{8}{3}$, $\\sigma = 10$, and $\\rho = 28$ were intentional.\n",
    "\n",
    "- With these parameters almost all IC's tend toward an invariant set of states as the system evolves numerically.\n",
    "\n",
    "- For a general ODE this set of states is called an $\\textbf{attractor}$, and if these states form a fractal they are called a $\\textbf{strange attractor}$.\n",
    "\n",
    "    - Because it's a notable example, the strange attractor that emerges from the Lorenz system is dubbed the $\\textbf{Lorenz attractor}$."
   ]
  },
  {
   "cell_type": "markdown",
   "id": "d1e78b84-9066-4c6d-b46e-776e4b1d0bf3",
   "metadata": {},
   "source": [
    "- While the Lorenz attractor is a notable example, these behaviours emerge from a variety of dynamical systems.\n",
    "\n",
    "- Most often, but not always, strange attractors emerge from chaotic systems.\n",
    "\n",
    "- As Jed mentioned in the introduction, a necessary condition of a chaotic system is that the behaviour of the system is heavily dependent on the choice of initial conditions."
   ]
  },
  {
   "cell_type": "markdown",
   "id": "a0c145ee-6471-4f1b-b311-d7531885ab50",
   "metadata": {},
   "source": [
    "## Sensitivity to Initial Conditions"
   ]
  },
  {
   "cell_type": "markdown",
   "id": "33336cf2-e617-44cc-897c-50cf1789f944",
   "metadata": {},
   "source": [
    "- We can visualize this initial condition dependence by taking a dynamical system that is known to be chaotic, i.e. the Lorenz system with $\\beta = \\frac{8}{3}$, $\\sigma = 10$, and $\\rho = 28$, and perturb $z_0$."
   ]
  },
  {
   "cell_type": "code",
   "execution_count": null,
   "id": "88b268c2-7312-4277-90b8-2f186265dd54",
   "metadata": {},
   "outputs": [],
   "source": [
    "u1 = [-15.0;-15.0;20.0]\n",
    "prob = ODEProblem(lorenz,u1,tspan)\n",
    "sol_unperturbed = solve(prob, Tsit5())\n",
    "\n",
    "u1 = [-15.0;-15.0;20.00001]\n",
    "prob = ODEProblem(lorenz,u1,tspan)\n",
    "sol_perturbed = solve(prob, Tsit5())\n",
    "\n",
    "plot(sol_unperturbed,vars=(1), color=1, xlims=(0, 20), ylabel=\"x(t)\", title=\"Incremental x(t) vs. Time for the Lorenz System\")\n",
    "plot!(sol_perturbed,vars=(1), color=2, xlims=(0, 20))"
   ]
  },
  {
   "cell_type": "code",
   "execution_count": null,
   "id": "91e8c8bc-1c4f-47b6-bad6-b00f569beff2",
   "metadata": {},
   "outputs": [],
   "source": [
    "plot(sol_unperturbed,vars=(2), color=1, xlims=(0, 20), ylabel=\"y(t)\", title=\"Incremental y(t) vs. Time for the Lorenz System\")\n",
    "plot!(sol_perturbed,vars=(2), color=2, xlims=(0, 20))"
   ]
  },
  {
   "cell_type": "code",
   "execution_count": null,
   "id": "bee7a9e0-8dcd-4e83-a900-f35629fac8ac",
   "metadata": {},
   "outputs": [],
   "source": [
    "plot(sol_unperturbed,vars=(3), color=1, xlims=(0, 20), ylabel=\"z(t)\", title=\"Incremental z(t) vs. Time for the Lorenz System\")\n",
    "plot!(sol_perturbed,vars=(3), color=2, xlims=(0, 20))"
   ]
  },
  {
   "cell_type": "markdown",
   "id": "02cccfaf-6704-47d0-b764-bb9ae2a1b38a",
   "metadata": {},
   "source": [
    "- Despite having $z_0$ differ by one part in $10^6$, the systems diverge wildly after the $\\approx 13^{th}$ timestep.\n",
    "- To briefly quantify this behaviour, we note that an initial state difference of $10^{-5}$ in $z_0$ has grown by six orders of magnitude over $15$ time steps."
   ]
  },
  {
   "cell_type": "markdown",
   "id": "61a4556e-9c5b-4c75-bc6c-20317a67f291",
   "metadata": {},
   "source": [
    "### Can we quantify this rate of divergence?"
   ]
  },
  {
   "cell_type": "markdown",
   "id": "0b24797c",
   "metadata": {
    "slideshow": {
     "slide_type": "fragment"
    }
   },
   "source": [
    "- To quantify trends in the sensitivity of chaotic dynamical systems to initial conditions, it is useful to first visualize the rate of divergence over time.\n",
    "\n",
    "- We can do so by plotting the $l$-2 norm of the difference between the perturbed and unperturbed states as a function of time. \n",
    "    \n",
    "    - This has been done for the Lorenz system below.\n"
   ]
  },
  {
   "cell_type": "code",
   "execution_count": null,
   "id": "57fe25f7-2e1a-40f9-b337-d06e81d74e43",
   "metadata": {},
   "outputs": [],
   "source": [
    "TT = 1:1:500\n",
    "err = @. sqrt((sol_perturbed[1, TT]-sol_unperturbed[1, TT])^2+(sol_perturbed[2, TT]-sol_unperturbed[2, TT])^2+(sol_perturbed[3, TT]-sol_unperturbed[3, TT])^2)\n",
    "\n",
    "TT = (1:1:500) * (40 / 700)\n",
    "plot(TT,err, yaxis=:log, xlabel=\"t\", ylabel=L\"|| \\hat{y}(t) - y(t) ||_{2}\", title=L\"l\" * \"-2 Norm of Perturbed and Unperturbed State Difference vs. Time\", label=\"\", size=(800,400))"
   ]
  },
  {
   "cell_type": "markdown",
   "id": "f1438ba1-6bb8-4131-b5d9-ac5345e0b8c0",
   "metadata": {},
   "source": [
    "- Applying this visualization reveals two distinct regions in the growth of the perturbations in our initially perturbed and unperturbed systems.\n",
    "\n",
    "- When T > 15, the $l$-2 error appears to reach an equilibrium and stops growing.\n",
    "\n",
    "- When T < 15, the $l$-2 error appears to grow exponentially. "
   ]
  },
  {
   "cell_type": "markdown",
   "id": "02438fe4-10fb-4ca8-b354-e662c4684ab9",
   "metadata": {},
   "source": [
    "- In general, the rate of growth in this initial exponential regime for a particular ODE is called it's $\\textbf{Lyapunov exponent}$. \n",
    "\n",
    "- This exponent is defined as $\\approx 0.9052$ for the Lorenz system. \n",
    "\n",
    "- Plotting an exponential function with this Lyapunov exponent looks as follows."
   ]
  },
  {
   "cell_type": "code",
   "execution_count": null,
   "id": "299376fb-be81-4c4b-9e5a-e737e8b00bf0",
   "metadata": {},
   "outputs": [],
   "source": [
    "TT = 1:1:500\n",
    "err = @. sqrt((sol_perturbed[1, TT]-sol_unperturbed[1, TT])^2+(sol_perturbed[2, TT]-sol_unperturbed[2, TT])^2+(sol_perturbed[3, TT]-sol_unperturbed[3, TT])^2)\n",
    "\n",
    "TT = (1:1:500) * (40 / 700)\n",
    "plot(TT,err, yaxis=:log, xlabel=\"t\", ylabel=L\"|| \\hat{y}(t) - y(t) ||_{2}\", title=L\"l\" * \"-2 Norm of Perturbed and Unperturbed State Difference vs. Time\",legend=:bottomright, label=\"perturbation norm\", size=(800,400))\n",
    "\n",
    "TT = (1:1:300) * (40 / 700)\n",
    "plot!(TT, 0.0001 *exp.(TT * 0.9052), label=L\"\\lambda = 0.9052\")"
   ]
  },
  {
   "cell_type": "markdown",
   "id": "d5249589-a374-498b-88cc-9ac50228788d",
   "metadata": {},
   "source": [
    "- We can say that perturbations in Lorenz systems typically grow at a rate of:\n",
    "\n",
    "\\begin{align*}\n",
    "    \\| \\hat{y}(t) - y(t) \\|_2 &\\approx Ce^{0.9052t}\n",
    "\\end{align*}\n",
    "\n",
    "In general, the formal definition of a Lyapunov exponent is given by:\n",
    "\n",
    "\\begin{align*}\n",
    "    \\lambda &= \\underset{t \\rightarrow \\infty}{lim} \\underset{\\| \\delta y(0) \\| \\rightarrow 0}{limsup} t^{-1} log \\frac{\\| \\delta y(t) \\|}{\\| \\delta y(0) \\|},\n",
    "\\end{align*}\n",
    "\n",
    "where:\n",
    "\n",
    "\\begin{align*}\n",
    "    \\delta y(t) &= \\hat{y}(t) - y(t)\n",
    "\\end{align*}"
   ]
  },
  {
   "cell_type": "markdown",
   "id": "d801698a",
   "metadata": {
    "slideshow": {
     "slide_type": "slide"
    }
   },
   "source": [
    "## Popular Examples of Chaos"
   ]
  },
  {
   "cell_type": "markdown",
   "id": "5b2e9894",
   "metadata": {
    "slideshow": {
     "slide_type": "fragment"
    }
   },
   "source": [
    "i love examples\n",
    "\n",
    "- Rossler equations\n",
    "- Chaotic nonlinear forced operator"
   ]
  },
  {
   "cell_type": "code",
   "execution_count": null,
   "id": "49a98903",
   "metadata": {
    "slideshow": {
     "slide_type": "fragment"
    }
   },
   "outputs": [],
   "source": [
    "example = 0"
   ]
  },
  {
   "cell_type": "markdown",
   "id": "3434e5eb",
   "metadata": {
    "slideshow": {
     "slide_type": "slide"
    }
   },
   "source": [
    "## Studying Chaos Numerically"
   ]
  },
  {
   "cell_type": "markdown",
   "id": "c0ac8b2f",
   "metadata": {
    "slideshow": {
     "slide_type": "fragment"
    }
   },
   "source": [
    "- The process of solving chaotic problems numerically is no different from that of a regular ODE system\n",
    "- e.g. the Lorenz problem is simply a system of 3 IVPs"
   ]
  },
  {
   "cell_type": "code",
   "execution_count": null,
   "id": "60ad005f",
   "metadata": {
    "slideshow": {
     "slide_type": "fragment"
    }
   },
   "outputs": [],
   "source": [
    "study = 6"
   ]
  },
  {
   "cell_type": "markdown",
   "id": "ca890473-a056-4f8c-91ed-a96bcb28618b",
   "metadata": {},
   "source": [
    "## Influence of Round-Off Errors"
   ]
  },
  {
   "cell_type": "markdown",
   "id": "3f518348-8fa7-4015-ae5b-1768283da273",
   "metadata": {},
   "source": [
    "- When dealing with systems that are hypersensitive to initial perturbations, it is natural to want to investigate the impacts that round-off errors, an unfortunate byproduct of numerical computing, can have on the reliability of their simulation. \n",
    "\n",
    "- We will now examine these complications in the case of our pedagogical example of the Lorenz system, generalizing the example that we provided previously."
   ]
  },
  {
   "cell_type": "markdown",
   "id": "eaa9c7d0-021b-46ff-8fcf-4d4b3bed3db7",
   "metadata": {},
   "source": [
    "- In our previous example, we varied the step size in our numerical solver of the Lorenz system with parameters designed to elicit chaotic behaviour and observed a scattered distribution of end points. \n",
    "\n",
    "- In order to clearly observe the effects of round-off errors on the evolution of our system, it would be ideal if we had a limited number of well defined end points, between which we might observe oscillation as a function of step size.\n",
    "\n",
    "- Conveniently the Lorenz system has such a property when $\\rho$ is chosen as $1 < \\rho < 24.74$, with $\\beta = \\frac{8}{3}$ and $\\sigma = 10$. It is well known that with these initial conditions, fixed point attractors emerge at:\n",
    "\n",
    "\\begin{gather*}\n",
    "x = \\sqrt{\\beta(\\rho - 1)}, y = \\sqrt{\\beta(\\rho-1)}, z = \\rho - 1, \\\\\n",
    "and \\\\\n",
    "x = -\\sqrt{\\beta(\\rho - 1)}, y = -\\sqrt{\\beta(\\rho-1)}, z = \\rho - 1\n",
    "\\end{gather*}"
   ]
  },
  {
   "cell_type": "markdown",
   "id": "c02d7730-b9c5-4e6d-81d2-041ebc755228",
   "metadata": {},
   "source": [
    "- To leverage this regime we will select $\\rho = 23$, with $\\beta$ and $\\sigma$ from before.\n",
    "\n",
    "- It has been shown that the 4th-order Runge-Kutta method with double precision exhibits a particular sensitivity to the choice of step-size $h$ [3].\n",
    "\n",
    "- Despite efforts to reduce $h$ and thus shrink truncation errors, final values over identical time horizons consistently fluctate between our two expected fixed points. "
   ]
  },
  {
   "cell_type": "code",
   "execution_count": null,
   "id": "206945c7-6570-4ca4-8e89-7657a41e85df",
   "metadata": {},
   "outputs": [],
   "source": [
    "# using ImageView\n",
    "# img = load(“numerical-chaos/chaotic_fluctuation.png”)\n",
    "# imshow(img)\n",
    "\n",
    "display(\"image/png\", read(\"chaotic_fluctuation.png\"))"
   ]
  },
  {
   "cell_type": "markdown",
   "id": "98e9acad-39b1-4a94-954b-0e4731e09b18",
   "metadata": {},
   "source": [
    "- Even when directly isolating round-off errors as the primary source of uncertainty by taking the truncation error to the $M$th-order, with $M > 30$, fluctuations in final values emerge in compute platforms that leverage multiple concurrent processes. \n",
    "\n",
    "- In order to avoid the uncertainty introduced by numerically solving the Lorenz equation, and indeed chaotic systems in general, it is crucial that both truncation and round-off errors be decreased simultaneously. \n",
    "\n",
    "- In fact, using the Mth-order Taylor series method with $M \\geq 130$ with 512-digit precision, numerical agreement can be achieved over the entire time interval even when accounting for varying numbers of computational processes and results obtained across different machines.\n",
    "\n",
    "- This relationship is illustrated clearly in the following plot. In this case the initial condition $(5,5,10)$ was was selected with $\\rho = 23$ and $\\beta$ and $\\sigma$ from the Lorenz system. "
   ]
  },
  {
   "cell_type": "code",
   "execution_count": null,
   "id": "2a0c05e8-8292-4c0b-b73c-b51c084d2c5d",
   "metadata": {},
   "outputs": [],
   "source": [
    "display(\"image/png\", read(\"stability.png\"))"
   ]
  },
  {
   "cell_type": "markdown",
   "id": "238c44d4-227d-456b-9a99-5ec23de58866",
   "metadata": {},
   "source": [
    "- It is crucial to once again consider that this result was obtained on the Lorenz system with $\\textit{non-chaotic}$ initial conditions.\n",
    "\n",
    "- To eliminate troublesome round-off and truncation errors in this regime requires extreme levels of precision.\n",
    "\n",
    "- In one instance researchers required the use of a $3500$th-order Taylor expansion method with $4180$-point precision to achieve a convergent numerical solution to the chaotic Lorenz equation over a large time horizon $([0, 10000])$.\n",
    "\n",
    "- It is clear that numerically accurate simulations of chaotic dynamical solutions are particularly difficult to develop. We are eager to explore recent advances in addressing this issue more deeply."
   ]
  },
  {
   "cell_type": "markdown",
   "id": "75e66bb4-9b0c-46c0-b121-e7d7128de9ff",
   "metadata": {},
   "source": [
    "Reference:\n",
    "\n",
    "[3] : https://www.researchgate.net/publication/318488232_Influence_of_round-off_errors_on_the_reliability_of_numerical_simulations_of_chaotic_dynamic_systems"
   ]
  },
  {
   "cell_type": "code",
   "execution_count": null,
   "id": "55bf285e-5bb5-48f7-9874-a650e01056ac",
   "metadata": {},
   "outputs": [],
   "source": []
  }
 ],
 "metadata": {
  "celltoolbar": "Slideshow",
  "kernelspec": {
   "display_name": "Julia 1.7.3",
   "language": "julia",
   "name": "julia-1.7"
  },
  "language_info": {
   "file_extension": ".jl",
   "mimetype": "application/julia",
   "name": "julia",
   "version": "1.7.3"
  }
 },
 "nbformat": 4,
 "nbformat_minor": 5
}
