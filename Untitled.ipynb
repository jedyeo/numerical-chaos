{
 "cells": [
  {
   "cell_type": "markdown",
   "id": "1eb93b31-caa4-441a-a53a-84b87b2f60e5",
   "metadata": {},
   "source": [
    "### Rossler Equations\n",
    "\n",
    "In Rossler Equations:\n",
    " $u'=-v-w$ $v'=u+\\frac{1}{5}v$ $w'=\\frac{1}{5}+w(u-c)$,\n",
    " \n",
    " with the initial condition $u(0)=2$, $v(0)=w(0)=0$\n",
    " \n",
    "where the constant 1/5 has been fixed arbitrarily and c is a parameter."
   ]
  },
  {
   "cell_type": "code",
   "execution_count": null,
   "id": "8070a9b9-0cc3-45e4-b572-c0cbe6092852",
   "metadata": {},
   "outputs": [],
   "source": [
    "function Rossler(du,u,p,t)\n",
    "    du[1] = -u[2]-u[3]\n",
    "    du[2] = u[1]+0.2*u[2]\n",
    "    du[3] = 0.2+u[3].*(u[1]-2)\n",
    "end\n",
    "\n",
    "u0 = [2;0;0]\n",
    "tspan = (0.0,200.0)\n",
    "prob = ODEProblem(Rossler,u0,tspan)\n",
    "sol = solve(prob, Tsit5())\n",
    "plot(sol,vars=(1,2,3))"
   ]
  },
  {
   "cell_type": "markdown",
   "id": "623a1e59-0a19-4e01-86b6-82eb40e39c42",
   "metadata": {},
   "source": [
    "As the parameter c increases, a bifurcation takes place. At around c = 2.8, the limit cycle undergoes period doubling, with\n",
    "the trajectory unfolding into a double loop."
   ]
  },
  {
   "cell_type": "code",
   "execution_count": null,
   "id": "7fbc0937-8636-4cbd-a48e-d8a0a1f7d250",
   "metadata": {},
   "outputs": [],
   "source": [
    "@gif for m = 1:0.1:4.2\n",
    "    function Rossler(du,u,p,t)\n",
    "        du[1] = -u[2]-u[3]\n",
    "        du[2] = u[1]+0.2*u[2]\n",
    "        du[3] = 0.2+u[3].*(u[1]-m)\n",
    "    end\n",
    "\n",
    "    u0 = [2;0;0]\n",
    "    tspan = (0.0,200.0)\n",
    "    prob = ODEProblem(Rossler,u0,tspan)\n",
    "    sol = solve(prob, Tsit5())\n",
    "    \n",
    "    p1=plot(sol,vars=(1,2,3))\n",
    "    p2=plot(sol,vars=(1,2))\n",
    "    plot(p1, p2, legend=false,title=m)\n",
    "end"
   ]
  },
  {
   "cell_type": "markdown",
   "id": "21e0e5a4-1b9e-4c64-b9e3-b75c491572af",
   "metadata": {},
   "source": [
    "The phenomenon of period doubling was made famous in the 1970s by Mitchell Feigenbaum, who showed that it is a route to chaos in many problems. As c increases further (the next transition is around c = 4.1), the period doubles again and again, infinitely often. Each time interval from one doubling to the next is asymptotically 4.6692 ... times shorter than the last; this is Feigenbaum’s constant. \n",
    "\n",
    "Finally, for c greater than about 4.2, the system is chaotic. The following images show the chaotic regime, with the orbits settling down not to a limit cycle but to a strange attractor."
   ]
  },
  {
   "cell_type": "code",
   "execution_count": null,
   "id": "bb86eeae-0739-4cb1-b2c9-9c8e654b021f",
   "metadata": {},
   "outputs": [],
   "source": [
    "@gif for m = 4.2:0.1:10\n",
    "    function Rossler(du,u,p,t)\n",
    "        du[1] = -u[2]-u[3]\n",
    "        du[2] = u[1]+0.2*u[2]\n",
    "        du[3] = 0.2+u[3].*(u[1]-m)\n",
    "    end\n",
    "\n",
    "    u0 = [2;0;0]\n",
    "    tspan = (0.0,200.0)\n",
    "    prob = ODEProblem(Rossler,u0,tspan)\n",
    "    sol = solve(prob, Tsit5())\n",
    "    \n",
    "    p1=plot(sol,vars=(1,2,3))\n",
    "    p2=plot(sol,vars=(1,2))\n",
    "    plot(p1, p2, legend=false,title=m)\n",
    "end"
   ]
  },
  {
   "cell_type": "markdown",
   "id": "16537d3d-0232-4fca-b821-65c7f581443e",
   "metadata": {},
   "source": [
    "### Nonlinear Forced Oscillator"
   ]
  },
  {
   "cell_type": "code",
   "execution_count": null,
   "id": "42fd7266-8bc3-4e2d-9065-bc0a754316c3",
   "metadata": {},
   "outputs": [],
   "source": [
    "function nonlinear(du,u,p,t)\n",
    "    du[1] = u[2]\n",
    "    du[2] = -0.25*u[2]+u[1]-u[1].^3+0.4*cos(t)\n",
    "end\n",
    "\n",
    "u0 = [0;0]\n",
    "tspan = (0.0,300.0)\n",
    "prob = ODEProblem(nonlinear,u0,tspan)\n",
    "sol = solve(prob, Tsit5())\n",
    "plot(sol)"
   ]
  },
  {
   "attachments": {
    "2fda59a1-1a36-47ff-b73a-ea4bc95f0109.png": {
     "image/png": "[encoded data removed]"
    }
   },
   "cell_type": "markdown",
   "id": "892ce76e-8ad4-43a5-9b7d-f4120bef2bee",
   "metadata": {},
   "source": [
    "### Chaos in a Food Web\n",
    "\n",
    "![image.png](attachment:2fda59a1-1a36-47ff-b73a-ea4bc95f0109.png)"
   ]
  },
  {
   "cell_type": "code",
   "execution_count": null,
   "id": "4e5d19fe-6a16-4080-a36c-89fd5b2f5fc8",
   "metadata": {},
   "outputs": [],
   "source": [
    "function fun(z,a,b)\n",
    "    res=a*z/(1+b*z)\n",
    "    return res\n",
    "end\n",
    "\n",
    "a1=5\n",
    "a2=0.1\n",
    "b1=2.5\n",
    "b2=2\n",
    "\n",
    "function rab(du,u,p,t)\n",
    "    du[1] = u[1].*(1-u[1])-fun(u[1],a1,b1)*u[2]\n",
    "    du[2] = fun(u[1],a1,b1)*u[2]-fun(u[2],a2,b2)*u[3]-0.4*u[2]\n",
    "    du[3] = fun(u[2],a2,b2)*u[3]-0.01*u[3]\n",
    "end\n",
    "\n",
    "u0 = [0.4;1;9]\n",
    "tspan = (0.0,3000.0)\n",
    "prob = ODEProblem(rab,u0,tspan)\n",
    "sol = solve(prob, Tsit5())\n",
    "plot(sol,vars=(1,2,3))"
   ]
  },
  {
   "cell_type": "code",
   "execution_count": null,
   "id": "93c77b26-c3dc-4114-9d4b-543a3e1ebb82",
   "metadata": {},
   "outputs": [],
   "source": [
    "plot(sol)"
   ]
  },
  {
   "cell_type": "code",
   "execution_count": null,
   "id": "b9a00a8e-f75e-407e-be0d-26538af1e9e8",
   "metadata": {},
   "outputs": [],
   "source": [
    "function fun(z,a,b)\n",
    "    res=a*z/(1+b*z)\n",
    "    return res\n",
    "end\n",
    "\n",
    "a1=5\n",
    "a2=0.1\n",
    "b1=3.5\n",
    "b2=2\n",
    "\n",
    "function rab(du,u,p,t)\n",
    "    du[1] = u[1].*(1-u[1])-fun(u[1],a1,b1)*u[2]\n",
    "    du[2] = fun(u[1],a1,b1)*u[2]-fun(u[2],a2,b2)*u[3]-0.4*u[2]\n",
    "    du[3] = fun(u[2],a2,b2)*u[3]-0.01*u[3]\n",
    "end\n",
    "\n",
    "u0 = [0.4;1;9]\n",
    "tspan = (0.0,3000.0)\n",
    "prob = ODEProblem(rab,u0,tspan)\n",
    "sol = solve(prob, Tsit5())\n",
    "plot(sol,vars=(1,2,3))"
   ]
  },
  {
   "cell_type": "code",
   "execution_count": null,
   "id": "e71b5df8-6736-4e34-bb83-1c9f8f0cd5d4",
   "metadata": {},
   "outputs": [],
   "source": [
    "plot(sol)"
   ]
  },
  {
   "cell_type": "code",
   "execution_count": null,
   "id": "42155596-9b2a-4606-9ff0-140da15e9829",
   "metadata": {},
   "outputs": [],
   "source": []
  }
 ],
 "metadata": {
  "kernelspec": {
   "display_name": "Julia 1.7.3",
   "language": "julia",
   "name": "julia-1.7"
  },
  "language_info": {
   "file_extension": ".jl",
   "mimetype": "application/julia",
   "name": "julia",
   "version": "1.7.3"
  }
 },
 "nbformat": 4,
 "nbformat_minor": 5
}
